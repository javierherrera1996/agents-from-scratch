{
  "cells": [
    {
      "cell_type": "markdown",
      "id": "5630b0ca",
      "metadata": {
        "id": "5630b0ca"
      },
      "source": [
        "# Build a Retrieval Augmented Generation (RAG) App: Part 1\n",
        "\n",
        "One of the most powerful applications enabled by LLMs is sophisticated question-answering (Q&A) chatbots. These are applications that can answer questions about specific source information. These applications use a technique known as Retrieval Augmented Generation, or [RAG](/docs/concepts/rag/).\n",
        "\n",
        "This is a multi-part tutorial:\n",
        "\n",
        "- [Part 1](/docs/tutorials/rag) (this guide) introduces RAG and walks through a minimal implementation.\n",
        "- [Part 2](/docs/tutorials/qa_chat_history) extends the implementation to accommodate conversation-style interactions and multi-step retrieval processes.\n",
        "\n",
        "This tutorial will show how to build a simple Q&A application\n",
        "over a text data source. Along the way we’ll go over a typical Q&A\n",
        "architecture and highlight additional resources for more advanced Q&A techniques. We’ll also see\n",
        "how LangSmith can help us trace and understand our application.\n",
        "LangSmith will become increasingly helpful as our application grows in\n",
        "complexity.\n",
        "\n",
        "If you're already familiar with basic retrieval, you might also be interested in\n",
        "this [high-level overview of different retrieval techniques](/docs/concepts/retrieval).\n",
        "\n",
        "**Note**: Here we focus on Q&A for unstructured data. If you are interested for RAG over structured data, check out our tutorial on doing [question/answering over SQL data](/docs/tutorials/sql_qa).\n",
        "\n",
        "## Overview\n",
        "A typical RAG application has two main components:\n",
        "\n",
        "**Indexing**: a pipeline for ingesting data from a source and indexing it. *This usually happens offline.*\n",
        "\n",
        "**Retrieval and generation**: the actual RAG chain, which takes the user query at run time and retrieves the relevant data from the index, then passes that to the model.\n",
        "\n",
        "Note: the indexing portion of this tutorial will largely follow the [semantic search tutorial](/docs/tutorials/retrievers).\n",
        "\n",
        "The most common full sequence from raw data to answer looks like:\n",
        "\n",
        "### Indexing\n",
        "1. **Load**: First we need to load our data. This is done with [Document Loaders](/docs/concepts/document_loaders).\n",
        "2. **Split**: [Text splitters](/docs/concepts/text_splitters) break large `Documents` into smaller chunks. This is useful both for indexing data and passing it into a model, as large chunks are harder to search over and won't fit in a model's finite context window.\n",
        "3. **Store**: We need somewhere to store and index our splits, so that they can be searched over later. This is often done using a [VectorStore](/docs/concepts/vectorstores) and [Embeddings](/docs/concepts/embedding_models) model.\n",
        "\n",
        "![index_diagram](https://github.com/langchain-ai/langchain/blob/master/docs/static/img/rag_indexing.png?raw=1)\n",
        "\n",
        "### Retrieval and generation\n",
        "4. **Retrieve**: Given a user input, relevant splits are retrieved from storage using a [Retriever](/docs/concepts/retrievers).\n",
        "5. **Generate**: A [ChatModel](/docs/concepts/chat_models) / [LLM](/docs/concepts/text_llms) produces an answer using a prompt that includes both the question with the retrieved data\n",
        "\n",
        "![retrieval_diagram](https://github.com/langchain-ai/langchain/blob/master/docs/static/img/rag_retrieval_generation.png?raw=1)\n",
        "\n",
        "Once we've indexed our data, we will use [LangGraph](https://langchain-ai.github.io/langgraph/) as our orchestration framework to implement the retrieval and generation steps.\n",
        "\n",
        "## Setup\n",
        "\n",
        "### Jupyter Notebook\n",
        "\n",
        "This and other tutorials are perhaps most conveniently run in a [Jupyter notebooks](https://jupyter.org/). Going through guides in an interactive environment is a great way to better understand them. See [here](https://jupyter.org/install) for instructions on how to install.\n",
        "\n",
        "### Installation\n",
        "\n",
        "This tutorial requires these langchain dependencies:\n",
        "\n",
        "import Tabs from '@theme/Tabs';\n",
        "import TabItem from '@theme/TabItem';\n",
        "import CodeBlock from \"@theme/CodeBlock\";\n",
        "\n",
        "<Tabs>\n",
        "  <TabItem value=\"pip\" label=\"Pip\" default>\n",
        "  "
      ]
    },
    {
      "cell_type": "code",
      "execution_count": 8,
      "id": "1918ba2f",
      "metadata": {
        "id": "1918ba2f"
      },
      "outputs": [
        {
          "name": "stdout",
          "output_type": "stream",
          "text": [
            "/workspaces/agents-from-scratch/.venv/bin/python: No module named pip\n",
            "Note: you may need to restart the kernel to use updated packages.\n"
          ]
        }
      ],
      "source": [
        "%pip install --quiet --upgrade langchain-text-splitters langchain-community langgraph"
      ]
    },
    {
      "cell_type": "markdown",
      "id": "9ff1b425",
      "metadata": {
        "id": "9ff1b425"
      },
      "source": [
        "  </TabItem>\n",
        "  <TabItem value=\"conda\" label=\"Conda\">\n",
        "    <CodeBlock language=\"bash\">conda install langchain-text-splitters langchain-community langgraph -c conda-forge</CodeBlock>\n",
        "  </TabItem>\n",
        "</Tabs>\n",
        "\n",
        "\n",
        "For more details, see our [Installation guide](/docs/how_to/installation).\n",
        "\n",
        "### LangSmith\n",
        "\n",
        "Many of the applications you build with LangChain will contain multiple steps with multiple invocations of LLM calls.\n",
        "As these applications get more complex, it becomes crucial to be able to inspect what exactly is going on inside your chain or agent.\n",
        "The best way to do this is with [LangSmith](https://smith.langchain.com).\n",
        "\n",
        "After you sign up at the link above, make sure to set your environment variables to start logging traces:\n",
        "\n",
        "```shell\n",
        "export LANGSMITH_TRACING=\"true\"\n",
        "export LANGSMITH_API_KEY=\"...\"\n",
        "```\n",
        "\n",
        "Or, if in a notebook, you can set them with:\n",
        "\n",
        "```python\n",
        "import getpass\n",
        "import os\n",
        "\n",
        "os.environ[\"LANGSMITH_TRACING\"] = \"true\"\n",
        "os.environ[\"LANGSMITH_API_KEY\"] = getpass.getpass()\n",
        "```\n",
        "\n",
        "## Components\n",
        "\n",
        "We will need to select three components from LangChain's suite of integrations.\n",
        "\n",
        "import ChatModelTabs from \"@theme/ChatModelTabs\";\n",
        "\n",
        "<ChatModelTabs customVarName=\"llm\" />"
      ]
    },
    {
      "cell_type": "code",
      "execution_count": 9,
      "id": "26ef9d35",
      "metadata": {
        "id": "26ef9d35"
      },
      "outputs": [],
      "source": [
        "# | output: false\n",
        "# | echo: false\n",
        "\n",
        "from langchain_openai import ChatOpenAI\n",
        "\n",
        "llm = ChatOpenAI(model=\"gpt-4o-mini\")"
      ]
    },
    {
      "cell_type": "markdown",
      "id": "f1b78672-f21e-4827-843e-59514d18ca20",
      "metadata": {
        "id": "f1b78672-f21e-4827-843e-59514d18ca20"
      },
      "source": [
        "import EmbeddingTabs from \"@theme/EmbeddingTabs\";\n",
        "\n",
        "<EmbeddingTabs/>"
      ]
    },
    {
      "cell_type": "code",
      "execution_count": 10,
      "id": "a199c764-5dfd-45cf-a4d4-731f2c3d474f",
      "metadata": {
        "id": "a199c764-5dfd-45cf-a4d4-731f2c3d474f"
      },
      "outputs": [],
      "source": [
        "# | output: false\n",
        "# | echo: false\n",
        "\n",
        "from langchain_openai import OpenAIEmbeddings\n",
        "\n",
        "embeddings = OpenAIEmbeddings()"
      ]
    },
    {
      "cell_type": "markdown",
      "id": "859ffca8-055e-4f5a-95fe-55906ed1d63f",
      "metadata": {
        "id": "859ffca8-055e-4f5a-95fe-55906ed1d63f"
      },
      "source": [
        "import VectorStoreTabs from \"@theme/VectorStoreTabs\";\n",
        "\n",
        "<VectorStoreTabs/>"
      ]
    },
    {
      "cell_type": "code",
      "execution_count": 11,
      "id": "f4db6b46-ea3f-4994-9d54-d7c84beb50cc",
      "metadata": {
        "id": "f4db6b46-ea3f-4994-9d54-d7c84beb50cc"
      },
      "outputs": [],
      "source": [
        "# | output: false\n",
        "# | echo: false\n",
        "\n",
        "from langchain_core.vectorstores import InMemoryVectorStore\n",
        "\n",
        "vector_store = InMemoryVectorStore(embeddings)"
      ]
    },
    {
      "cell_type": "markdown",
      "id": "93b2d316-922c-4318-b72d-486fd6813b94",
      "metadata": {
        "id": "93b2d316-922c-4318-b72d-486fd6813b94"
      },
      "source": [
        "## Preview\n",
        "\n",
        "In this guide we’ll build an app that answers questions about the website's content. The specific website we will use is the [LLM Powered Autonomous\n",
        "Agents](https://lilianweng.github.io/posts/2023-06-23-agent/) blog post\n",
        "by Lilian Weng, which allows us to ask questions about the contents of\n",
        "the post.\n",
        "\n",
        "We can create a simple indexing pipeline and RAG chain to do this in ~50\n",
        "lines of code.\n",
        "\n",
        "```python\n",
        "import bs4\n",
        "from langchain import hub\n",
        "from langchain_community.document_loaders import WebBaseLoader\n",
        "from langchain_core.documents import Document\n",
        "from langchain_text_splitters import RecursiveCharacterTextSplitter\n",
        "from langgraph.graph import START, StateGraph\n",
        "from typing_extensions import List, TypedDict\n",
        "\n",
        "# Load and chunk contents of the blog\n",
        "loader = WebBaseLoader(\n",
        "    web_paths=(\"https://lilianweng.github.io/posts/2023-06-23-agent/\",),\n",
        "    bs_kwargs=dict(\n",
        "        parse_only=bs4.SoupStrainer(\n",
        "            class_=(\"post-content\", \"post-title\", \"post-header\")\n",
        "        )\n",
        "    ),\n",
        ")\n",
        "docs = loader.load()\n",
        "\n",
        "text_splitter = RecursiveCharacterTextSplitter(chunk_size=1000, chunk_overlap=200)\n",
        "all_splits = text_splitter.split_documents(docs)\n",
        "\n",
        "# Index chunks\n",
        "_ = vector_store.add_documents(documents=all_splits)\n",
        "\n",
        "# Define prompt for question-answering\n",
        "# N.B. for non-US LangSmith endpoints, you may need to specify\n",
        "# api_url=\"https://api.smith.langchain.com\" in hub.pull.\n",
        "prompt = hub.pull(\"rlm/rag-prompt\")\n",
        "\n",
        "\n",
        "# Define state for application\n",
        "class State(TypedDict):\n",
        "    question: str\n",
        "    context: List[Document]\n",
        "    answer: str\n",
        "\n",
        "\n",
        "# Define application steps\n",
        "def retrieve(state: State):\n",
        "    retrieved_docs = vector_store.similarity_search(state[\"question\"])\n",
        "    return {\"context\": retrieved_docs}\n",
        "\n",
        "\n",
        "def generate(state: State):\n",
        "    docs_content = \"\\n\\n\".join(doc.page_content for doc in state[\"context\"])\n",
        "    messages = prompt.invoke({\"question\": state[\"question\"], \"context\": docs_content})\n",
        "    response = llm.invoke(messages)\n",
        "    return {\"answer\": response.content}\n",
        "\n",
        "\n",
        "# Compile application and test\n",
        "graph_builder = StateGraph(State).add_sequence([retrieve, generate])\n",
        "graph_builder.add_edge(START, \"retrieve\")\n",
        "graph = graph_builder.compile()\n",
        "```\n",
        "\n",
        "```python\n",
        "response = graph.invoke({\"question\": \"What is Task Decomposition?\"})\n",
        "print(response[\"answer\"])\n",
        "```\n",
        "\n",
        "```\n",
        "Task Decomposition is the process of breaking down a complicated task into smaller, manageable steps to facilitate easier execution and understanding. Techniques like Chain of Thought (CoT) and Tree of Thoughts (ToT) guide models to think step-by-step, allowing them to explore multiple reasoning possibilities. This method enhances performance on complex tasks and provides insight into the model's thinking process.\n",
        "```"
      ]
    },
    {
      "cell_type": "markdown",
      "id": "9ff8204b-dabc-4790-80ea-50d4cf4fceb0",
      "metadata": {
        "id": "9ff8204b-dabc-4790-80ea-50d4cf4fceb0"
      },
      "source": [
        "Check out the [LangSmith\n",
        "trace](https://smith.langchain.com/public/65030797-7efa-4356-a7bd-b54b3dc70e17/r)."
      ]
    },
    {
      "cell_type": "markdown",
      "id": "efa9ea6a-f914-4f50-8e35-52e6c34b8001",
      "metadata": {
        "id": "efa9ea6a-f914-4f50-8e35-52e6c34b8001"
      },
      "source": [
        "## Detailed walkthrough\n",
        "\n",
        "Let’s go through the above code step-by-step to really understand what’s\n",
        "going on.\n",
        "\n",
        "## 1. Indexing {#indexing}\n",
        "\n",
        ":::note\n",
        "\n",
        "This section is an abbreviated version of the content in the [semantic search tutorial](/docs/tutorials/retrievers).\n",
        "If you're comfortable with [document loaders](/docs/concepts/document_loaders), [embeddings](/docs/concepts/embedding_models), and [vector stores](/docs/concepts/vectorstores),\n",
        "feel free to skip to the next section on [retrieval and generation](/docs/tutorials/rag/#orchestration).\n",
        "\n",
        ":::\n",
        "\n",
        "### Loading documents\n",
        "\n",
        "We need to first load the blog post contents. We can use\n",
        "[DocumentLoaders](/docs/concepts/document_loaders)\n",
        "for this, which are objects that load in data from a source and return a\n",
        "list of\n",
        "[Document](https://python.langchain.com/api_reference/core/documents/langchain_core.documents.base.Document.html)\n",
        "objects.\n",
        "\n",
        "In this case we’ll use the\n",
        "[WebBaseLoader](/docs/integrations/document_loaders/web_base),\n",
        "which uses `urllib` to load HTML from web URLs and `BeautifulSoup` to\n",
        "parse it to text. We can customize the HTML -\\> text parsing by passing\n",
        "in parameters into the `BeautifulSoup` parser via `bs_kwargs` (see\n",
        "[BeautifulSoup\n",
        "docs](https://beautiful-soup-4.readthedocs.io/en/latest/#beautifulsoup)).\n",
        "In this case only HTML tags with class “post-content”, “post-title”, or\n",
        "“post-header” are relevant, so we’ll remove all others."
      ]
    },
    {
      "cell_type": "code",
      "execution_count": 12,
      "id": "7b0971b5-8579-4a89-bd2e-9029dda4c4f1",
      "metadata": {
        "id": "7b0971b5-8579-4a89-bd2e-9029dda4c4f1",
        "outputId": "ba736bad-14e1-4b1e-8c2c-4a3510e8a5e1"
      },
      "outputs": [
        {
          "name": "stdout",
          "output_type": "stream",
          "text": [
            "Total characters: 43047\n"
          ]
        }
      ],
      "source": [
        "import bs4\n",
        "from langchain_community.document_loaders import WebBaseLoader\n",
        "\n",
        "# Only keep post title, headers, and content from the full HTML.\n",
        "bs4_strainer = bs4.SoupStrainer(class_=(\"post-title\", \"post-header\", \"post-content\"))\n",
        "loader = WebBaseLoader(\n",
        "    web_paths=(\"https://lilianweng.github.io/posts/2023-06-23-agent/\",),\n",
        "    bs_kwargs={\"parse_only\": bs4_strainer},\n",
        ")\n",
        "docs = loader.load()\n",
        "\n",
        "assert len(docs) == 1\n",
        "print(f\"Total characters: {len(docs[0].page_content)}\")"
      ]
    },
    {
      "cell_type": "code",
      "execution_count": 13,
      "id": "1a560025-fb86-4b7e-9586-da263bbad481",
      "metadata": {
        "id": "1a560025-fb86-4b7e-9586-da263bbad481",
        "outputId": "a3ccdd0d-bfdf-4299-8dff-9dbe7e59e5ec"
      },
      "outputs": [
        {
          "name": "stdout",
          "output_type": "stream",
          "text": [
            "\n",
            "\n",
            "      LLM Powered Autonomous Agents\n",
            "    \n",
            "Date: June 23, 2023  |  Estimated Reading Time: 31 min  |  Author: Lilian Weng\n",
            "\n",
            "\n",
            "Building agents with LLM (large language model) as its core controller is a cool concept. Several proof-of-concepts demos, such as AutoGPT, GPT-Engineer and BabyAGI, serve as inspiring examples. The potentiality of LLM extends beyond generating well-written copies, stories, essays and programs; it can be framed as a powerful general problem solver.\n",
            "Agent System Overview#\n",
            "In\n"
          ]
        }
      ],
      "source": [
        "print(docs[0].page_content[:500])"
      ]
    },
    {
      "cell_type": "markdown",
      "id": "e6f11795-e19f-4697-bc6e-6d477355a1cd",
      "metadata": {
        "id": "e6f11795-e19f-4697-bc6e-6d477355a1cd"
      },
      "source": [
        "#### Go deeper\n",
        "\n",
        "`DocumentLoader`: Object that loads data from a source as list of `Documents`.\n",
        "\n",
        "- [Docs](/docs/how_to#document-loaders):\n",
        "  Detailed documentation on how to use `DocumentLoaders`.\n",
        "- [Integrations](/docs/integrations/document_loaders/): 160+\n",
        "  integrations to choose from.\n",
        "- [Interface](https://python.langchain.com/api_reference/core/document_loaders/langchain_core.document_loaders.base.BaseLoader.html):\n",
        "  API reference for the base interface.\n",
        "\n",
        "### Splitting documents\n",
        "\n",
        "Our loaded document is over 42k characters which is too long to fit\n",
        "into the context window of many models. Even for those models that could\n",
        "fit the full post in their context window, models can struggle to find\n",
        "information in very long inputs.\n",
        "\n",
        "To handle this we’ll split the `Document` into chunks for embedding and\n",
        "vector storage. This should help us retrieve only the most relevant parts\n",
        "of the blog post at run time.\n",
        "\n",
        "As in the [semantic search tutorial](/docs/tutorials/retrievers), we use a\n",
        "[RecursiveCharacterTextSplitter](/docs/how_to/recursive_text_splitter),\n",
        "which will recursively split the document using common separators like\n",
        "new lines until each chunk is the appropriate size. This is the\n",
        "recommended text splitter for generic text use cases."
      ]
    },
    {
      "cell_type": "code",
      "execution_count": 14,
      "id": "753e1484-e21b-4f62-9866-b3a5971f88a7",
      "metadata": {
        "id": "753e1484-e21b-4f62-9866-b3a5971f88a7",
        "outputId": "ddd3fc9a-cd59-4e9b-dea2-6f954297503f"
      },
      "outputs": [
        {
          "name": "stdout",
          "output_type": "stream",
          "text": [
            "Split blog post into 63 sub-documents.\n"
          ]
        }
      ],
      "source": [
        "from langchain_text_splitters import RecursiveCharacterTextSplitter\n",
        "\n",
        "text_splitter = RecursiveCharacterTextSplitter(\n",
        "    chunk_size=1000,  # chunk size (characters)\n",
        "    chunk_overlap=200,  # chunk overlap (characters)\n",
        "    add_start_index=True,  # track index in original document\n",
        ")\n",
        "all_splits = text_splitter.split_documents(docs)\n",
        "\n",
        "print(f\"Split blog post into {len(all_splits)} sub-documents.\")"
      ]
    },
    {
      "cell_type": "markdown",
      "id": "f5193e01-6cf1-45b9-9ba5-38caf75162a6",
      "metadata": {
        "id": "f5193e01-6cf1-45b9-9ba5-38caf75162a6"
      },
      "source": [
        "#### Go deeper\n",
        "\n",
        "`TextSplitter`: Object that splits a list of `Document`s into smaller\n",
        "chunks. Subclass of `DocumentTransformer`s.\n",
        "\n",
        "- Learn more about splitting text using different methods by reading the [how-to docs](/docs/how_to#text-splitters)\n",
        "- [Code (py or js)](/docs/integrations/document_loaders/source_code)\n",
        "- [Scientific papers](/docs/integrations/document_loaders/grobid)\n",
        "- [Interface](https://python.langchain.com/api_reference/text_splitters/base/langchain_text_splitters.base.TextSplitter.html): API reference for the base interface.\n",
        "\n",
        "`DocumentTransformer`: Object that performs a transformation on a list\n",
        "of `Document` objects.\n",
        "\n",
        "- [Docs](/docs/how_to#text-splitters): Detailed documentation on how to use `DocumentTransformers`\n",
        "- [Integrations](/docs/integrations/document_transformers/)\n",
        "- [Interface](https://python.langchain.com/api_reference/core/documents/langchain_core.documents.transformers.BaseDocumentTransformer.html): API reference for the base interface.\n",
        "\n",
        "### Storing documents\n",
        "\n",
        "Now we need to index our 66 text chunks so that we can search over them\n",
        "at runtime. Following the [semantic search tutorial](/docs/tutorials/retrievers),\n",
        "our approach is to [embed](/docs/concepts/embedding_models/) the contents of each document split and insert these embeddings\n",
        "into a [vector store](/docs/concepts/vectorstores/). Given an input query, we can then use\n",
        "vector search to retrieve relevant documents.\n",
        "\n",
        "We can embed and store all of our document splits in a single command\n",
        "using the vector store and embeddings model selected at the [start of the tutorial](/docs/tutorials/rag/#components)."
      ]
    },
    {
      "cell_type": "code",
      "execution_count": 15,
      "id": "00d455e1-c681-4665-9470-58dbeca050d4",
      "metadata": {
        "id": "00d455e1-c681-4665-9470-58dbeca050d4",
        "outputId": "8305e369-f684-4dcf-c8af-b5da0534b102"
      },
      "outputs": [
        {
          "name": "stdout",
          "output_type": "stream",
          "text": [
            "['0ec77693-3ac9-4592-850e-c21c7bb1b7c2', '6fe81591-f372-4642-8775-acd3c38e7407', '53ba3d5a-5ea9-493f-8c38-dc3db27cd78d']\n"
          ]
        }
      ],
      "source": [
        "document_ids = vector_store.add_documents(documents=all_splits)\n",
        "\n",
        "print(document_ids[:3])"
      ]
    },
    {
      "cell_type": "markdown",
      "id": "57666234-a5b3-4abc-b079-755241bb2b98",
      "metadata": {
        "id": "57666234-a5b3-4abc-b079-755241bb2b98"
      },
      "source": [
        "#### Go deeper\n",
        "\n",
        "`Embeddings`: Wrapper around a text embedding model, used for converting\n",
        "text to embeddings.\n",
        "\n",
        "- [Docs](/docs/how_to/embed_text): Detailed documentation on how to use embeddings.\n",
        "- [Integrations](/docs/integrations/text_embedding/): 30+ integrations to choose from.\n",
        "- [Interface](https://python.langchain.com/api_reference/core/embeddings/langchain_core.embeddings.Embeddings.html): API reference for the base interface.\n",
        "\n",
        "`VectorStore`: Wrapper around a vector database, used for storing and\n",
        "querying embeddings.\n",
        "\n",
        "- [Docs](/docs/how_to/vectorstores): Detailed documentation on how to use vector stores.\n",
        "- [Integrations](/docs/integrations/vectorstores/): 40+ integrations to choose from.\n",
        "- [Interface](https://python.langchain.com/api_reference/core/vectorstores/langchain_core.vectorstores.base.VectorStore.html): API reference for the base interface.\n",
        "\n",
        "This completes the **Indexing** portion of the pipeline. At this point\n",
        "we have a query-able vector store containing the chunked contents of our\n",
        "blog post. Given a user question, we should ideally be able to return\n",
        "the snippets of the blog post that answer the question.\n",
        "\n",
        "## 2. Retrieval and Generation {#orchestration}\n",
        "\n",
        "Now let’s write the actual application logic. We want to create a simple\n",
        "application that takes a user question, searches for documents relevant\n",
        "to that question, passes the retrieved documents and initial question to\n",
        "a model, and returns an answer.\n",
        "\n",
        "For generation, we will use the chat model selected at the [start of the tutorial](/docs/tutorials/rag/#components).\n",
        "\n",
        "We’ll use a prompt for RAG that is checked into the LangChain prompt hub\n",
        "([here](https://smith.langchain.com/hub/rlm/rag-prompt))."
      ]
    },
    {
      "cell_type": "code",
      "execution_count": 16,
      "id": "46f378c5-858c-488f-8aef-8b59a6280791",
      "metadata": {
        "id": "46f378c5-858c-488f-8aef-8b59a6280791",
        "outputId": "44fb388f-d71e-4d5a-bd7e-36be3ac408e3"
      },
      "outputs": [
        {
          "ename": "TypeError",
          "evalue": "Cannot create a consistent method resolution\norder (MRO) for bases Generic, ABC",
          "output_type": "error",
          "traceback": [
            "\u001b[31m---------------------------------------------------------------------------\u001b[39m",
            "\u001b[31mTypeError\u001b[39m                                 Traceback (most recent call last)",
            "\u001b[36mCell\u001b[39m\u001b[36m \u001b[39m\u001b[32mIn[16]\u001b[39m\u001b[32m, line 1\u001b[39m\n\u001b[32m----> \u001b[39m\u001b[32m1\u001b[39m \u001b[38;5;28;01mfrom\u001b[39;00m\u001b[38;5;250m \u001b[39m\u001b[34;01mlangchain\u001b[39;00m\u001b[38;5;250m \u001b[39m\u001b[38;5;28;01mimport\u001b[39;00m hub\n\u001b[32m      3\u001b[39m \u001b[38;5;66;03m# N.B. for non-US LangSmith endpoints, you may need to specify\u001b[39;00m\n\u001b[32m      4\u001b[39m \u001b[38;5;66;03m# api_url=\"https://api.smith.langchain.com\" in hub.pull.\u001b[39;00m\n\u001b[32m      5\u001b[39m prompt = hub.pull(\u001b[33m\"\u001b[39m\u001b[33mrlm/rag-prompt\u001b[39m\u001b[33m\"\u001b[39m)\n",
            "\u001b[36mFile \u001b[39m\u001b[32m/workspaces/agents-from-scratch/.venv/lib/python3.12/site-packages/langchain/hub.py:11\u001b[39m\n\u001b[32m      9\u001b[39m \u001b[38;5;28;01mfrom\u001b[39;00m\u001b[38;5;250m \u001b[39m\u001b[34;01mlangchain_core\u001b[39;00m\u001b[34;01m.\u001b[39;00m\u001b[34;01mload\u001b[39;00m\u001b[34;01m.\u001b[39;00m\u001b[34;01mdump\u001b[39;00m\u001b[38;5;250m \u001b[39m\u001b[38;5;28;01mimport\u001b[39;00m dumps\n\u001b[32m     10\u001b[39m \u001b[38;5;28;01mfrom\u001b[39;00m\u001b[38;5;250m \u001b[39m\u001b[34;01mlangchain_core\u001b[39;00m\u001b[34;01m.\u001b[39;00m\u001b[34;01mload\u001b[39;00m\u001b[34;01m.\u001b[39;00m\u001b[34;01mload\u001b[39;00m\u001b[38;5;250m \u001b[39m\u001b[38;5;28;01mimport\u001b[39;00m loads\n\u001b[32m---> \u001b[39m\u001b[32m11\u001b[39m \u001b[38;5;28;01mfrom\u001b[39;00m\u001b[38;5;250m \u001b[39m\u001b[34;01mlangchain_core\u001b[39;00m\u001b[34;01m.\u001b[39;00m\u001b[34;01mprompts\u001b[39;00m\u001b[38;5;250m \u001b[39m\u001b[38;5;28;01mimport\u001b[39;00m BasePromptTemplate\n\u001b[32m     14\u001b[39m \u001b[38;5;28;01mdef\u001b[39;00m\u001b[38;5;250m \u001b[39m\u001b[34m_get_client\u001b[39m(\n\u001b[32m     15\u001b[39m     api_key: Optional[\u001b[38;5;28mstr\u001b[39m] = \u001b[38;5;28;01mNone\u001b[39;00m,\n\u001b[32m     16\u001b[39m     api_url: Optional[\u001b[38;5;28mstr\u001b[39m] = \u001b[38;5;28;01mNone\u001b[39;00m,\n\u001b[32m     17\u001b[39m ) -> Any:\n\u001b[32m     18\u001b[39m     \u001b[38;5;28;01mtry\u001b[39;00m:\n",
            "\u001b[36mFile \u001b[39m\u001b[32m<frozen importlib._bootstrap>:1412\u001b[39m, in \u001b[36m_handle_fromlist\u001b[39m\u001b[34m(module, fromlist, import_, recursive)\u001b[39m\n",
            "\u001b[36mFile \u001b[39m\u001b[32m/workspaces/agents-from-scratch/.venv/lib/python3.12/site-packages/langchain_core/prompts/__init__.py:119\u001b[39m, in \u001b[36m__getattr__\u001b[39m\u001b[34m(attr_name)\u001b[39m\n\u001b[32m    117\u001b[39m \u001b[38;5;28;01mdef\u001b[39;00m\u001b[38;5;250m \u001b[39m\u001b[34m__getattr__\u001b[39m(attr_name: \u001b[38;5;28mstr\u001b[39m) -> \u001b[38;5;28mobject\u001b[39m:\n\u001b[32m    118\u001b[39m     module_name = _dynamic_imports.get(attr_name)\n\u001b[32m--> \u001b[39m\u001b[32m119\u001b[39m     result = \u001b[43mimport_attr\u001b[49m\u001b[43m(\u001b[49m\u001b[43mattr_name\u001b[49m\u001b[43m,\u001b[49m\u001b[43m \u001b[49m\u001b[43mmodule_name\u001b[49m\u001b[43m,\u001b[49m\u001b[43m \u001b[49m\u001b[43m__spec__\u001b[49m\u001b[43m.\u001b[49m\u001b[43mparent\u001b[49m\u001b[43m)\u001b[49m\n\u001b[32m    120\u001b[39m     \u001b[38;5;28mglobals\u001b[39m()[attr_name] = result\n\u001b[32m    121\u001b[39m     \u001b[38;5;28;01mreturn\u001b[39;00m result\n",
            "\u001b[36mFile \u001b[39m\u001b[32m/workspaces/agents-from-scratch/.venv/lib/python3.12/site-packages/langchain_core/_import_utils.py:29\u001b[39m, in \u001b[36mimport_attr\u001b[39m\u001b[34m(attr_name, module_name, package)\u001b[39m\n\u001b[32m     10\u001b[39m \u001b[38;5;250m\u001b[39m\u001b[33;03m\"\"\"Import an attribute from a module located in a package.\u001b[39;00m\n\u001b[32m     11\u001b[39m \n\u001b[32m     12\u001b[39m \u001b[33;03mThis utility function is used in custom __getattr__ methods within __init__.py\u001b[39;00m\n\u001b[32m   (...)\u001b[39m\u001b[32m     26\u001b[39m \u001b[33;03m    The imported attribute.\u001b[39;00m\n\u001b[32m     27\u001b[39m \u001b[33;03m\"\"\"\u001b[39;00m\n\u001b[32m     28\u001b[39m \u001b[38;5;28;01mif\u001b[39;00m module_name == \u001b[33m\"\u001b[39m\u001b[33m__module__\u001b[39m\u001b[33m\"\u001b[39m \u001b[38;5;129;01mor\u001b[39;00m module_name \u001b[38;5;129;01mis\u001b[39;00m \u001b[38;5;28;01mNone\u001b[39;00m:\n\u001b[32m---> \u001b[39m\u001b[32m29\u001b[39m     \u001b[38;5;28;01mtry\u001b[39;00m:\n\u001b[32m     30\u001b[39m         result = import_module(\u001b[33mf\u001b[39m\u001b[33m\"\u001b[39m\u001b[33m.\u001b[39m\u001b[38;5;132;01m{\u001b[39;00mattr_name\u001b[38;5;132;01m}\u001b[39;00m\u001b[33m\"\u001b[39m, package=package)\n\u001b[32m     31\u001b[39m     \u001b[38;5;28;01mexcept\u001b[39;00m \u001b[38;5;167;01mModuleNotFoundError\u001b[39;00m:\n",
            "\u001b[36mFile \u001b[39m\u001b[32m~/.python/current/lib/python3.12/importlib/__init__.py:90\u001b[39m, in \u001b[36mimport_module\u001b[39m\u001b[34m(name, package)\u001b[39m\n\u001b[32m     88\u001b[39m             \u001b[38;5;28;01mbreak\u001b[39;00m\n\u001b[32m     89\u001b[39m         level += \u001b[32m1\u001b[39m\n\u001b[32m---> \u001b[39m\u001b[32m90\u001b[39m \u001b[38;5;28;01mreturn\u001b[39;00m \u001b[43m_bootstrap\u001b[49m\u001b[43m.\u001b[49m\u001b[43m_gcd_import\u001b[49m\u001b[43m(\u001b[49m\u001b[43mname\u001b[49m\u001b[43m[\u001b[49m\u001b[43mlevel\u001b[49m\u001b[43m:\u001b[49m\u001b[43m]\u001b[49m\u001b[43m,\u001b[49m\u001b[43m \u001b[49m\u001b[43mpackage\u001b[49m\u001b[43m,\u001b[49m\u001b[43m \u001b[49m\u001b[43mlevel\u001b[49m\u001b[43m)\u001b[49m\n",
            "\u001b[36mFile \u001b[39m\u001b[32m/workspaces/agents-from-scratch/.venv/lib/python3.12/site-packages/langchain_core/prompts/base.py:45\u001b[39m\n\u001b[32m     39\u001b[39m     \u001b[38;5;28;01mfrom\u001b[39;00m\u001b[38;5;250m \u001b[39m\u001b[34;01mlangchain_core\u001b[39;00m\u001b[34;01m.\u001b[39;00m\u001b[34;01mdocuments\u001b[39;00m\u001b[38;5;250m \u001b[39m\u001b[38;5;28;01mimport\u001b[39;00m Document\n\u001b[32m     42\u001b[39m FormatOutputType = TypeVar(\u001b[33m\"\u001b[39m\u001b[33mFormatOutputType\u001b[39m\u001b[33m\"\u001b[39m)\n\u001b[32m---> \u001b[39m\u001b[32m45\u001b[39m \u001b[38;5;28;43;01mclass\u001b[39;49;00m\u001b[38;5;250;43m \u001b[39;49m\u001b[34;43;01mBasePromptTemplate\u001b[39;49;00m\u001b[43m(\u001b[49m\n\u001b[32m     46\u001b[39m \u001b[43m    \u001b[49m\u001b[43mRunnableSerializable\u001b[49m\u001b[43m[\u001b[49m\u001b[38;5;28;43mdict\u001b[39;49m\u001b[43m,\u001b[49m\u001b[43m \u001b[49m\u001b[43mPromptValue\u001b[49m\u001b[43m]\u001b[49m\u001b[43m,\u001b[49m\u001b[43m \u001b[49m\u001b[43mABC\u001b[49m\u001b[43m,\u001b[49m\u001b[43m \u001b[49m\u001b[43mGeneric\u001b[49m\u001b[43m[\u001b[49m\u001b[43mFormatOutputType\u001b[49m\u001b[43m]\u001b[49m\n\u001b[32m     47\u001b[39m \u001b[43m)\u001b[49m\u001b[43m:\u001b[49m\n\u001b[32m     48\u001b[39m \u001b[38;5;250;43m    \u001b[39;49m\u001b[33;43;03m\"\"\"Base class for all prompt templates, returning a prompt.\"\"\"\u001b[39;49;00m\n\u001b[32m     50\u001b[39m \u001b[43m    \u001b[49m\u001b[43minput_variables\u001b[49m\u001b[43m:\u001b[49m\u001b[43m \u001b[49m\u001b[38;5;28;43mlist\u001b[39;49m\u001b[43m[\u001b[49m\u001b[38;5;28;43mstr\u001b[39;49m\u001b[43m]\u001b[49m\n",
            "\u001b[36mFile \u001b[39m\u001b[32m/workspaces/agents-from-scratch/.venv/lib/python3.12/site-packages/pydantic/_internal/_model_construction.py:135\u001b[39m, in \u001b[36mModelMetaclass.__new__\u001b[39m\u001b[34m(mcs, cls_name, bases, namespace, __pydantic_generic_metadata__, __pydantic_reset_parent_namespace__, _create_model_module, **kwargs)\u001b[39m\n\u001b[32m    132\u001b[39m namespace[\u001b[33m'\u001b[39m\u001b[33m__class_vars__\u001b[39m\u001b[33m'\u001b[39m] = class_vars\n\u001b[32m    133\u001b[39m namespace[\u001b[33m'\u001b[39m\u001b[33m__private_attributes__\u001b[39m\u001b[33m'\u001b[39m] = {**base_private_attributes, **private_attributes}\n\u001b[32m--> \u001b[39m\u001b[32m135\u001b[39m \u001b[38;5;28mcls\u001b[39m = cast(\u001b[33m'\u001b[39m\u001b[33mtype[BaseModel]\u001b[39m\u001b[33m'\u001b[39m, \u001b[38;5;28;43msuper\u001b[39;49m\u001b[43m(\u001b[49m\u001b[43m)\u001b[49m\u001b[43m.\u001b[49m\u001b[34;43m__new__\u001b[39;49m\u001b[43m(\u001b[49m\u001b[43mmcs\u001b[49m\u001b[43m,\u001b[49m\u001b[43m \u001b[49m\u001b[43mcls_name\u001b[49m\u001b[43m,\u001b[49m\u001b[43m \u001b[49m\u001b[43mbases\u001b[49m\u001b[43m,\u001b[49m\u001b[43m \u001b[49m\u001b[43mnamespace\u001b[49m\u001b[43m,\u001b[49m\u001b[43m \u001b[49m\u001b[43m*\u001b[49m\u001b[43m*\u001b[49m\u001b[43mkwargs\u001b[49m\u001b[43m)\u001b[49m)\n\u001b[32m    136\u001b[39m BaseModel_ = import_cached_base_model()\n\u001b[32m    138\u001b[39m mro = \u001b[38;5;28mcls\u001b[39m.\u001b[34m__mro__\u001b[39m\n",
            "\u001b[36mFile \u001b[39m\u001b[32m<frozen abc>:106\u001b[39m, in \u001b[36m__new__\u001b[39m\u001b[34m(mcls, name, bases, namespace, **kwargs)\u001b[39m\n",
            "\u001b[31mTypeError\u001b[39m: Cannot create a consistent method resolution\norder (MRO) for bases Generic, ABC"
          ]
        }
      ],
      "source": [
        "from langchain import hub\n",
        "\n",
        "# N.B. for non-US LangSmith endpoints, you may need to specify\n",
        "# api_url=\"https://api.smith.langchain.com\" in hub.pull.\n",
        "prompt = hub.pull(\"rlm/rag-prompt\")\n",
        "\n",
        "example_messages = prompt.invoke(\n",
        "    {\"context\": \"(context goes here)\", \"question\": \"(question goes here)\"}\n",
        ").to_messages()\n",
        "\n",
        "assert len(example_messages) == 1\n",
        "print(example_messages[0].content)"
      ]
    },
    {
      "cell_type": "markdown",
      "id": "77dfe84d-cc19-4227-bee4-56b69508ab11",
      "metadata": {
        "id": "77dfe84d-cc19-4227-bee4-56b69508ab11"
      },
      "source": [
        "We'll use [LangGraph](https://langchain-ai.github.io/langgraph/) to tie together the retrieval and generation steps into a single application. This will bring a number of benefits:\n",
        "\n",
        "- We can define our application logic once and automatically support multiple invocation modes, including streaming, async, and batched calls.\n",
        "- We get streamlined deployments via [LangGraph Platform](https://langchain-ai.github.io/langgraph/concepts/langgraph_platform/).\n",
        "- LangSmith will automatically trace the steps of our application together.\n",
        "- We can easily add key features to our application, including [persistence](https://langchain-ai.github.io/langgraph/concepts/persistence/) and [human-in-the-loop approval](https://langchain-ai.github.io/langgraph/concepts/human_in_the_loop/), with minimal code changes.\n",
        "\n",
        "To use LangGraph, we need to define three things:\n",
        "\n",
        "1. The state of our application;\n",
        "2. The nodes of our application (i.e., application steps);\n",
        "3. The \"control flow\" of our application (e.g., the ordering of the steps).\n",
        "\n",
        "#### State:\n",
        "\n",
        "The [state](https://langchain-ai.github.io/langgraph/concepts/low_level/#state) of our application controls what data is input to the application, transferred between steps, and output by the application. It is typically a `TypedDict`, but can also be a [Pydantic BaseModel](https://langchain-ai.github.io/langgraph/how-tos/state-model/).\n",
        "\n",
        "For a simple RAG application, we can just keep track of the input question, retrieved context, and generated answer:"
      ]
    },
    {
      "cell_type": "code",
      "execution_count": null,
      "id": "3bdc7c33-67f4-40c3-a0f5-9b846bc6e35c",
      "metadata": {
        "id": "3bdc7c33-67f4-40c3-a0f5-9b846bc6e35c"
      },
      "outputs": [],
      "source": [
        "from langchain_core.documents import Document\n",
        "from typing_extensions import List, TypedDict\n",
        "\n",
        "\n",
        "class State(TypedDict):\n",
        "    question: str\n",
        "    context: List[Document]\n",
        "    answer: str"
      ]
    },
    {
      "cell_type": "markdown",
      "id": "77868d9a-892f-4b2c-b706-850f96b4464f",
      "metadata": {
        "id": "77868d9a-892f-4b2c-b706-850f96b4464f"
      },
      "source": [
        "#### Nodes (application steps)\n",
        "\n",
        "Let's start with a simple sequence of two steps: retrieval and generation."
      ]
    },
    {
      "cell_type": "code",
      "execution_count": null,
      "id": "bdabbf44-cbee-46a4-98e4-794fdfc8bb3b",
      "metadata": {
        "id": "bdabbf44-cbee-46a4-98e4-794fdfc8bb3b"
      },
      "outputs": [],
      "source": [
        "def retrieve(state: State):\n",
        "    retrieved_docs = vector_store.similarity_search(state[\"question\"])\n",
        "    return {\"context\": retrieved_docs}\n",
        "\n",
        "\n",
        "def generate(state: State):\n",
        "    docs_content = \"\\n\\n\".join(doc.page_content for doc in state[\"context\"])\n",
        "    messages = prompt.invoke({\"question\": state[\"question\"], \"context\": docs_content})\n",
        "    response = llm.invoke(messages)\n",
        "    return {\"answer\": response.content}"
      ]
    },
    {
      "cell_type": "markdown",
      "id": "d1ac9dc3-d73d-48c3-be05-4b60e0b8bc17",
      "metadata": {
        "id": "d1ac9dc3-d73d-48c3-be05-4b60e0b8bc17"
      },
      "source": [
        "Our retrieval step simply runs a similarity search using the input question, and the generation step formats the retrieved context and original question into a prompt for the chat model.\n",
        "\n",
        "#### Control flow\n",
        "\n",
        "Finally, we compile our application into a single `graph` object. In this case, we are just connecting the retrieval and generation steps into a single sequence."
      ]
    },
    {
      "cell_type": "code",
      "execution_count": null,
      "id": "418ddefb-9a1d-42bf-9d23-e525268312a4",
      "metadata": {
        "id": "418ddefb-9a1d-42bf-9d23-e525268312a4"
      },
      "outputs": [],
      "source": [
        "from langgraph.graph import START, StateGraph\n",
        "\n",
        "graph_builder = StateGraph(State).add_sequence([retrieve, generate])\n",
        "graph_builder.add_edge(START, \"retrieve\")\n",
        "graph = graph_builder.compile()"
      ]
    },
    {
      "cell_type": "markdown",
      "id": "20b127f4-8411-4214-8cdd-a281771ab708",
      "metadata": {
        "id": "20b127f4-8411-4214-8cdd-a281771ab708"
      },
      "source": [
        "LangGraph also comes with built-in utilities for visualizing the control flow of your application:"
      ]
    },
    {
      "cell_type": "code",
      "execution_count": null,
      "id": "feabc04f-b509-4452-8e2b-d7c7b7585a18",
      "metadata": {
        "id": "feabc04f-b509-4452-8e2b-d7c7b7585a18",
        "outputId": "54c08b88-83fc-456f-f32f-660c9c093c47"
      },
      "outputs": [
        {
          "data": {
            "image/png": "[encoded data removed]",
            "text/plain": [
              "<IPython.core.display.Image object>"
            ]
          },
          "metadata": {},
          "output_type": "display_data"
        }
      ],
      "source": [
        "from IPython.display import Image, display\n",
        "\n",
        "display(Image(graph.get_graph().draw_mermaid_png()))"
      ]
    },
    {
      "cell_type": "markdown",
      "id": "31f7dc4d-cac8-4be9-b44c-df097dc28c81",
      "metadata": {
        "id": "31f7dc4d-cac8-4be9-b44c-df097dc28c81"
      },
      "source": [
        "<details>\n",
        "<summary>Do I need to use LangGraph?</summary>\n",
        "\n",
        "LangGraph is not required to build a RAG application. Indeed, we can implement the same application logic through invocations of the individual components:\n",
        "\n",
        "```python\n",
        "question = \"...\"\n",
        "\n",
        "retrieved_docs = vector_store.similarity_search(question)\n",
        "docs_content = \"\\n\\n\".join(doc.page_content for doc in retrieved_docs)\n",
        "prompt = prompt.invoke({\"question\": question, \"context\": docs_content})\n",
        "answer = llm.invoke(prompt)\n",
        "```\n",
        "\n",
        "The benefits of LangGraph include:\n",
        "\n",
        "- Support for multiple invocation modes: this logic would need to be rewritten if we wanted to stream output tokens, or stream the results of individual steps;\n",
        "- Automatic support for tracing via [LangSmith](https://docs.smith.langchain.com/) and deployments via [LangGraph Platform](https://langchain-ai.github.io/langgraph/concepts/langgraph_platform/);\n",
        "- Support for persistence, human-in-the-loop, and other features.\n",
        "\n",
        "Many use-cases demand RAG in a conversational experience, such that a user can receive context-informed answers via a stateful conversation. As we will see in [Part 2](/docs/tutorials/qa_chat_history) of the tutorial, LangGraph's management and persistence of state simplifies these applications enormously.\n",
        "\n",
        "</details>"
      ]
    },
    {
      "cell_type": "markdown",
      "id": "eee9c057-5a08-46a3-8c7d-6a314d1e777d",
      "metadata": {
        "id": "eee9c057-5a08-46a3-8c7d-6a314d1e777d"
      },
      "source": [
        "#### Usage\n",
        "\n",
        "Let's test our application! LangGraph supports multiple invocation modes, including sync, async, and streaming.\n",
        "\n",
        "Invoke:"
      ]
    },
    {
      "cell_type": "code",
      "execution_count": null,
      "id": "663b93ba-f0a7-44c4-a894-fe895bd5b009",
      "metadata": {
        "id": "663b93ba-f0a7-44c4-a894-fe895bd5b009",
        "outputId": "6a127de2-5ae9-4744-9dc5-08c456d65820"
      },
      "outputs": [
        {
          "name": "stdout",
          "output_type": "stream",
          "text": [
            "Context: [Document(id='b5177c5d-7c60-4a27-baeb-4ad60a477e72', metadata={'source': 'https://lilianweng.github.io/posts/2023-06-23-agent/', 'start_index': 1638}, page_content='Component One: Planning#\\nA complicated task usually involves many steps. An agent needs to know what they are and plan ahead.\\nTask Decomposition#\\nChain of thought (CoT; Wei et al. 2022) has become a standard prompting technique for enhancing model performance on complex tasks. The model is instructed to “think step by step” to utilize more test-time computation to decompose hard tasks into smaller and simpler steps. CoT transforms big tasks into multiple manageable tasks and shed lights into an interpretation of the model’s thinking process.\\nTree of Thoughts (Yao et al. 2023) extends CoT by exploring multiple reasoning possibilities at each step. It first decomposes the problem into multiple thought steps and generates multiple thoughts per step, creating a tree structure. The search process can be BFS (breadth-first search) or DFS (depth-first search) with each state evaluated by a classifier (via a prompt) or majority vote.'), Document(id='31b9f6b3-c390-4521-b5fb-618a41285078', metadata={'source': 'https://lilianweng.github.io/posts/2023-06-23-agent/', 'start_index': 2578}, page_content='Task decomposition can be done (1) by LLM with simple prompting like \"Steps for XYZ.\\\\n1.\", \"What are the subgoals for achieving XYZ?\", (2) by using task-specific instructions; e.g. \"Write a story outline.\" for writing a novel, or (3) with human inputs.\\nAnother quite distinct approach, LLM+P (Liu et al. 2023), involves relying on an external classical planner to do long-horizon planning. This approach utilizes the Planning Domain Definition Language (PDDL) as an intermediate interface to describe the planning problem. In this process, LLM (1) translates the problem into “Problem PDDL”, then (2) requests a classical planner to generate a PDDL plan based on an existing “Domain PDDL”, and finally (3) translates the PDDL plan back into natural language. Essentially, the planning step is outsourced to an external tool, assuming the availability of domain-specific PDDL and a suitable planner which is common in certain robotic setups but not in many other domains.\\nSelf-Reflection#'), Document(id='cdd1b771-86c9-4338-9cda-f15cb6306878', metadata={'source': 'https://lilianweng.github.io/posts/2023-06-23-agent/', 'start_index': 17352}, page_content='Illustration of how HuggingGPT works. (Image source: Shen et al. 2023)\\n\\nThe system comprises of 4 stages:\\n(1) Task planning: LLM works as the brain and parses the user requests into multiple tasks. There are four attributes associated with each task: task type, ID, dependencies, and arguments. They use few-shot examples to guide LLM to do task parsing and planning.\\nInstruction:'), Document(id='ab2e8fca-4030-4037-87ff-daaf38596521', metadata={'source': 'https://lilianweng.github.io/posts/2023-06-23-agent/', 'start_index': 29546}, page_content='Resources:\\n1. Internet access for searches and information gathering.\\n2. Long Term memory management.\\n3. GPT-3.5 powered Agents for delegation of simple tasks.\\n4. File output.\\n\\nPerformance Evaluation:\\n1. Continuously review and analyze your actions to ensure you are performing to the best of your abilities.\\n2. Constructively self-criticize your big-picture behavior constantly.\\n3. Reflect on past decisions and strategies to refine your approach.\\n4. Every command has a cost, so be smart and efficient. Aim to complete tasks in the least number of steps.')]\n",
            "\n",
            "\n",
            "Answer: Task decomposition involves breaking down a complex task into smaller, manageable steps to ease planning and execution. This can be achieved through techniques such as chain of thought prompting or using structured methods like tree of thoughts for multiple reasoning paths. It enhances task execution by clarifying the thought process and making it easier to tackle each component effectively.\n"
          ]
        }
      ],
      "source": [
        "result = graph.invoke({\"question\": \"What is Task Decomposition?\"})\n",
        "\n",
        "print(f\"Context: {result['context']}\\n\\n\")\n",
        "print(f\"Answer: {result['answer']}\")"
      ]
    },
    {
      "cell_type": "markdown",
      "id": "4ef88f30-40ca-476b-808d-794cb72d401f",
      "metadata": {
        "id": "4ef88f30-40ca-476b-808d-794cb72d401f"
      },
      "source": [
        "Stream steps:"
      ]
    },
    {
      "cell_type": "code",
      "execution_count": null,
      "id": "e6314a96-aab8-4ecc-bbf9-094fa2aa0e50",
      "metadata": {
        "id": "e6314a96-aab8-4ecc-bbf9-094fa2aa0e50",
        "outputId": "8d9eb832-b5f6-4f25-9b82-ef08a7b5677d"
      },
      "outputs": [
        {
          "name": "stdout",
          "output_type": "stream",
          "text": [
            "{'retrieve': {'context': [Document(id='b5177c5d-7c60-4a27-baeb-4ad60a477e72', metadata={'source': 'https://lilianweng.github.io/posts/2023-06-23-agent/', 'start_index': 1638}, page_content='Component One: Planning#\\nA complicated task usually involves many steps. An agent needs to know what they are and plan ahead.\\nTask Decomposition#\\nChain of thought (CoT; Wei et al. 2022) has become a standard prompting technique for enhancing model performance on complex tasks. The model is instructed to “think step by step” to utilize more test-time computation to decompose hard tasks into smaller and simpler steps. CoT transforms big tasks into multiple manageable tasks and shed lights into an interpretation of the model’s thinking process.\\nTree of Thoughts (Yao et al. 2023) extends CoT by exploring multiple reasoning possibilities at each step. It first decomposes the problem into multiple thought steps and generates multiple thoughts per step, creating a tree structure. The search process can be BFS (breadth-first search) or DFS (depth-first search) with each state evaluated by a classifier (via a prompt) or majority vote.'), Document(id='31b9f6b3-c390-4521-b5fb-618a41285078', metadata={'source': 'https://lilianweng.github.io/posts/2023-06-23-agent/', 'start_index': 2578}, page_content='Task decomposition can be done (1) by LLM with simple prompting like \"Steps for XYZ.\\\\n1.\", \"What are the subgoals for achieving XYZ?\", (2) by using task-specific instructions; e.g. \"Write a story outline.\" for writing a novel, or (3) with human inputs.\\nAnother quite distinct approach, LLM+P (Liu et al. 2023), involves relying on an external classical planner to do long-horizon planning. This approach utilizes the Planning Domain Definition Language (PDDL) as an intermediate interface to describe the planning problem. In this process, LLM (1) translates the problem into “Problem PDDL”, then (2) requests a classical planner to generate a PDDL plan based on an existing “Domain PDDL”, and finally (3) translates the PDDL plan back into natural language. Essentially, the planning step is outsourced to an external tool, assuming the availability of domain-specific PDDL and a suitable planner which is common in certain robotic setups but not in many other domains.\\nSelf-Reflection#'), Document(id='cdd1b771-86c9-4338-9cda-f15cb6306878', metadata={'source': 'https://lilianweng.github.io/posts/2023-06-23-agent/', 'start_index': 17352}, page_content='Illustration of how HuggingGPT works. (Image source: Shen et al. 2023)\\n\\nThe system comprises of 4 stages:\\n(1) Task planning: LLM works as the brain and parses the user requests into multiple tasks. There are four attributes associated with each task: task type, ID, dependencies, and arguments. They use few-shot examples to guide LLM to do task parsing and planning.\\nInstruction:'), Document(id='ab2e8fca-4030-4037-87ff-daaf38596521', metadata={'source': 'https://lilianweng.github.io/posts/2023-06-23-agent/', 'start_index': 29546}, page_content='Resources:\\n1. Internet access for searches and information gathering.\\n2. Long Term memory management.\\n3. GPT-3.5 powered Agents for delegation of simple tasks.\\n4. File output.\\n\\nPerformance Evaluation:\\n1. Continuously review and analyze your actions to ensure you are performing to the best of your abilities.\\n2. Constructively self-criticize your big-picture behavior constantly.\\n3. Reflect on past decisions and strategies to refine your approach.\\n4. Every command has a cost, so be smart and efficient. Aim to complete tasks in the least number of steps.')]}}\n",
            "\n",
            "----------------\n",
            "\n",
            "{'generate': {'answer': 'Task decomposition is the process of breaking down complex tasks into smaller, manageable parts to enhance understanding and execution. Techniques like Chain of Thought (CoT) and Tree of Thoughts enable this by encouraging iterative and multi-faceted reasoning. This can be achieved through prompting, task-specific instructions, or human inputs, and sometimes involves integrating external classical planners for longer-term planning.'}}\n",
            "\n",
            "----------------\n",
            "\n"
          ]
        }
      ],
      "source": [
        "for step in graph.stream(\n",
        "    {\"question\": \"What is Task Decomposition?\"}, stream_mode=\"updates\"\n",
        "):\n",
        "    print(f\"{step}\\n\\n----------------\\n\")"
      ]
    },
    {
      "cell_type": "markdown",
      "id": "f860142d-d50b-4526-a03f-a59a763117fe",
      "metadata": {
        "id": "f860142d-d50b-4526-a03f-a59a763117fe"
      },
      "source": [
        "Stream [tokens](/docs/concepts/tokens/):"
      ]
    },
    {
      "cell_type": "code",
      "execution_count": null,
      "id": "28625cc3-0f77-4143-af51-ce0fd6682120",
      "metadata": {
        "id": "28625cc3-0f77-4143-af51-ce0fd6682120",
        "outputId": "84a1a5f7-225c-421d-ecd5-eadc2124d19f"
      },
      "outputs": [
        {
          "name": "stdout",
          "output_type": "stream",
          "text": [
            "|Task| De|composition| is| the| process| of| breaking| down| complex| tasks| into| smaller|,| manageable| steps| to| facilitate| planning| and| execution|.| Techniques| like| Chain| of| Thought| (|Co|T|)| and| Tree| of| Thoughts| enhance| this| by| guiding| models| to| think| step| by| step| or| explore| multiple| reasoning| possibilities|.| It| can| be| implemented| through| prompting|,| task|-specific| instructions|,| or| human| inputs|,| and| can| also| involve| external| planners| for| long|-term| tasks|.||"
          ]
        }
      ],
      "source": [
        "for message, metadata in graph.stream(\n",
        "    {\"question\": \"What is Task Decomposition?\"}, stream_mode=\"messages\"\n",
        "):\n",
        "    print(message.content, end=\"|\")"
      ]
    },
    {
      "cell_type": "markdown",
      "id": "0fe09894-0cc5-4427-9a24-aef60d20705f",
      "metadata": {
        "id": "0fe09894-0cc5-4427-9a24-aef60d20705f"
      },
      "source": [
        ":::tip\n",
        "\n",
        "For async invocations, use:\n",
        "\n",
        "```python\n",
        "result = await graph.ainvoke(...)\n",
        "```\n",
        "\n",
        "and\n",
        "\n",
        "```python\n",
        "async for step in graph.astream(...):\n",
        "```\n",
        "\n",
        ":::"
      ]
    },
    {
      "cell_type": "markdown",
      "id": "406534d4-66a3-4c27-b277-2bd2f5930cf5",
      "metadata": {
        "id": "406534d4-66a3-4c27-b277-2bd2f5930cf5"
      },
      "source": [
        "#### Returning sources\n",
        "\n",
        "Note that by storing the retrieved context in the state of the graph, we recover sources for the model's generated answer in the `\"context\"` field of the state. See [this guide](/docs/how_to/qa_sources/) on returning sources for more detail.\n",
        "\n",
        "#### Go deeper\n",
        "\n",
        "[Chat models](/docs/concepts/chat_models) take in a sequence of messages and return a message.\n",
        "\n",
        "- [Docs](/docs/how_to#chat-models)\n",
        "- [Integrations](/docs/integrations/chat/): 25+ integrations to choose from.\n",
        "- [Interface](https://python.langchain.com/api_reference/core/language_models/langchain_core.language_models.chat_models.BaseChatModel.html): API reference for the base interface.\n",
        "\n",
        "**Customizing the prompt**\n",
        "\n",
        "As shown above, we can load prompts (e.g., [this RAG\n",
        "prompt](https://smith.langchain.com/hub/rlm/rag-prompt)) from the prompt\n",
        "hub. The prompt can also be easily customized. For example:"
      ]
    },
    {
      "cell_type": "code",
      "execution_count": null,
      "id": "956e7e78-c26c-4d2d-bf2e-4fc41ff40d37",
      "metadata": {
        "id": "956e7e78-c26c-4d2d-bf2e-4fc41ff40d37"
      },
      "outputs": [],
      "source": [
        "from langchain_core.prompts import PromptTemplate\n",
        "\n",
        "template = \"\"\"Use the following pieces of context to answer the question at the end.\n",
        "If you don't know the answer, just say that you don't know, don't try to make up an answer.\n",
        "Use three sentences maximum and keep the answer as concise as possible.\n",
        "Always say \"thanks for asking!\" at the end of the answer.\n",
        "\n",
        "{context}\n",
        "\n",
        "Question: {question}\n",
        "\n",
        "Helpful Answer:\"\"\"\n",
        "custom_rag_prompt = PromptTemplate.from_template(template)"
      ]
    },
    {
      "cell_type": "markdown",
      "id": "217cf819-da76-4595-8f75-33f931f1f92a",
      "metadata": {
        "id": "217cf819-da76-4595-8f75-33f931f1f92a"
      },
      "source": [
        "## Query analysis\n",
        "\n",
        "So far, we are executing the retrieval using the raw input query. However, there are some advantages to allowing a model to generate the query for retrieval purposes. For example:\n",
        "\n",
        "- In addition to semantic search, we can build in structured filters (e.g., \"Find documents since the year 2020.\");\n",
        "- The model can rewrite user queries, which may be multifaceted or include irrelevant language, into more effective search queries.\n",
        "\n",
        "[Query analysis](/docs/concepts/retrieval/#query-analysis) employs models to transform or construct optimized search queries from raw user input. We can easily incorporate a query analysis step into our application. For illustrative purposes, let's add some metadata to the documents in our vector store. We will add some (contrived) sections to the document which we can filter on later."
      ]
    },
    {
      "cell_type": "code",
      "execution_count": null,
      "id": "df00956a-6565-4c05-b201-32854dd2a889",
      "metadata": {
        "id": "df00956a-6565-4c05-b201-32854dd2a889",
        "outputId": "be53dd5d-bcfd-47a5-b05c-a2b85ff5ab80"
      },
      "outputs": [
        {
          "data": {
            "text/plain": [
              "{'source': 'https://lilianweng.github.io/posts/2023-06-23-agent/',\n",
              " 'start_index': 8,\n",
              " 'section': 'beginning'}"
            ]
          },
          "execution_count": 22,
          "metadata": {},
          "output_type": "execute_result"
        }
      ],
      "source": [
        "total_documents = len(all_splits)\n",
        "third = total_documents // 3\n",
        "\n",
        "for i, document in enumerate(all_splits):\n",
        "    if i < third:\n",
        "        document.metadata[\"section\"] = \"beginning\"\n",
        "    elif i < 2 * third:\n",
        "        document.metadata[\"section\"] = \"middle\"\n",
        "    else:\n",
        "        document.metadata[\"section\"] = \"end\"\n",
        "\n",
        "\n",
        "all_splits[0].metadata"
      ]
    },
    {
      "cell_type": "markdown",
      "id": "114878bd-a334-41ed-8013-ec4ce0a9112b",
      "metadata": {
        "id": "114878bd-a334-41ed-8013-ec4ce0a9112b"
      },
      "source": [
        "We will need to update the documents in our vector store. We will use a simple [InMemoryVectorStore](https://python.langchain.com/api_reference/core/vectorstores/langchain_core.vectorstores.in_memory.InMemoryVectorStore.html) for this, as we will use some of its specific features (i.e., metadata filtering). Refer to the vector store [integration documentation](/docs/integrations/vectorstores/) for relevant features of your chosen vector store."
      ]
    },
    {
      "cell_type": "code",
      "execution_count": null,
      "id": "ebb3cbd7-7c75-4cc0-a198-ff7c54a0c43a",
      "metadata": {
        "id": "ebb3cbd7-7c75-4cc0-a198-ff7c54a0c43a"
      },
      "outputs": [],
      "source": [
        "from langchain_core.vectorstores import InMemoryVectorStore\n",
        "\n",
        "vector_store = InMemoryVectorStore(embeddings)\n",
        "_ = vector_store.add_documents(all_splits)"
      ]
    },
    {
      "cell_type": "markdown",
      "id": "c08aaccd-b3df-45e9-8646-d6ea20215e62",
      "metadata": {
        "id": "c08aaccd-b3df-45e9-8646-d6ea20215e62"
      },
      "source": [
        "Let's next define a schema for our search query. We will use [structured output](/docs/concepts/structured_outputs/) for this purpose. Here we define a query as containing a string query and a document section (either \"beginning\", \"middle\", or \"end\"), but this can be defined however you like."
      ]
    },
    {
      "cell_type": "code",
      "execution_count": null,
      "id": "87f9c8c3-3e99-426d-aa65-fec4b9155c3f",
      "metadata": {
        "id": "87f9c8c3-3e99-426d-aa65-fec4b9155c3f"
      },
      "outputs": [],
      "source": [
        "from typing import Literal\n",
        "\n",
        "from typing_extensions import Annotated\n",
        "\n",
        "\n",
        "class Search(TypedDict):\n",
        "    \"\"\"Search query.\"\"\"\n",
        "\n",
        "    query: Annotated[str, ..., \"Search query to run.\"]\n",
        "    section: Annotated[\n",
        "        Literal[\"beginning\", \"middle\", \"end\"],\n",
        "        ...,\n",
        "        \"Section to query.\",\n",
        "    ]"
      ]
    },
    {
      "cell_type": "markdown",
      "id": "6399a870-cb06-4219-9b4f-cfa37cb8ab0f",
      "metadata": {
        "id": "6399a870-cb06-4219-9b4f-cfa37cb8ab0f"
      },
      "source": [
        "Finally, we add a step to our LangGraph application to generate a query from the user's raw input:"
      ]
    },
    {
      "cell_type": "code",
      "execution_count": null,
      "id": "7e8fcdcb-a4ff-41c3-97c7-92d81ab29f38",
      "metadata": {
        "id": "7e8fcdcb-a4ff-41c3-97c7-92d81ab29f38"
      },
      "outputs": [],
      "source": [
        "class State(TypedDict):\n",
        "    question: str\n",
        "    # highlight-next-line\n",
        "    query: Search\n",
        "    context: List[Document]\n",
        "    answer: str\n",
        "\n",
        "\n",
        "# highlight-next-line\n",
        "def analyze_query(state: State):\n",
        "    # highlight-next-line\n",
        "    structured_llm = llm.with_structured_output(Search)\n",
        "    # highlight-next-line\n",
        "    query = structured_llm.invoke(state[\"question\"])\n",
        "    # highlight-next-line\n",
        "    return {\"query\": query}\n",
        "\n",
        "\n",
        "def retrieve(state: State):\n",
        "    # highlight-start\n",
        "    query = state[\"query\"]\n",
        "    retrieved_docs = vector_store.similarity_search(\n",
        "        query[\"query\"],\n",
        "        filter=lambda doc: doc.metadata.get(\"section\") == query[\"section\"],\n",
        "    )\n",
        "    # highlight-end\n",
        "    return {\"context\": retrieved_docs}\n",
        "\n",
        "\n",
        "def generate(state: State):\n",
        "    docs_content = \"\\n\\n\".join(doc.page_content for doc in state[\"context\"])\n",
        "    messages = prompt.invoke({\"question\": state[\"question\"], \"context\": docs_content})\n",
        "    response = llm.invoke(messages)\n",
        "    return {\"answer\": response.content}\n",
        "\n",
        "\n",
        "# highlight-start\n",
        "graph_builder = StateGraph(State).add_sequence([analyze_query, retrieve, generate])\n",
        "graph_builder.add_edge(START, \"analyze_query\")\n",
        "# highlight-end\n",
        "graph = graph_builder.compile()"
      ]
    },
    {
      "cell_type": "markdown",
      "id": "28a62d34",
      "metadata": {
        "id": "28a62d34"
      },
      "source": [
        "<details>\n",
        "<summary>Full Code:</summary>\n",
        "\n",
        "```python\n",
        "from typing import Literal\n",
        "\n",
        "import bs4\n",
        "from langchain import hub\n",
        "from langchain_community.document_loaders import WebBaseLoader\n",
        "from langchain_core.documents import Document\n",
        "from langchain_core.vectorstores import InMemoryVectorStore\n",
        "from langchain_text_splitters import RecursiveCharacterTextSplitter\n",
        "from langgraph.graph import START, StateGraph\n",
        "from typing_extensions import Annotated, List, TypedDict\n",
        "\n",
        "# Load and chunk contents of the blog\n",
        "loader = WebBaseLoader(\n",
        "    web_paths=(\"https://lilianweng.github.io/posts/2023-06-23-agent/\",),\n",
        "    bs_kwargs=dict(\n",
        "        parse_only=bs4.SoupStrainer(\n",
        "            class_=(\"post-content\", \"post-title\", \"post-header\")\n",
        "        )\n",
        "    ),\n",
        ")\n",
        "docs = loader.load()\n",
        "\n",
        "text_splitter = RecursiveCharacterTextSplitter(chunk_size=1000, chunk_overlap=200)\n",
        "all_splits = text_splitter.split_documents(docs)\n",
        "\n",
        "\n",
        "# Update metadata (illustration purposes)\n",
        "total_documents = len(all_splits)\n",
        "third = total_documents // 3\n",
        "\n",
        "for i, document in enumerate(all_splits):\n",
        "    if i < third:\n",
        "        document.metadata[\"section\"] = \"beginning\"\n",
        "    elif i < 2 * third:\n",
        "        document.metadata[\"section\"] = \"middle\"\n",
        "    else:\n",
        "        document.metadata[\"section\"] = \"end\"\n",
        "\n",
        "\n",
        "# Index chunks\n",
        "vector_store = InMemoryVectorStore(embeddings)\n",
        "_ = vector_store.add_documents(all_splits)\n",
        "\n",
        "\n",
        "# Define schema for search\n",
        "class Search(TypedDict):\n",
        "    \"\"\"Search query.\"\"\"\n",
        "\n",
        "    query: Annotated[str, ..., \"Search query to run.\"]\n",
        "    section: Annotated[\n",
        "        Literal[\"beginning\", \"middle\", \"end\"],\n",
        "        ...,\n",
        "        \"Section to query.\",\n",
        "    ]\n",
        "\n",
        "# Define prompt for question-answering\n",
        "prompt = hub.pull(\"rlm/rag-prompt\")\n",
        "\n",
        "\n",
        "# Define state for application\n",
        "class State(TypedDict):\n",
        "    question: str\n",
        "    query: Search\n",
        "    context: List[Document]\n",
        "    answer: str\n",
        "\n",
        "\n",
        "def analyze_query(state: State):\n",
        "    structured_llm = llm.with_structured_output(Search)\n",
        "    query = structured_llm.invoke(state[\"question\"])\n",
        "    return {\"query\": query}\n",
        "\n",
        "\n",
        "def retrieve(state: State):\n",
        "    query = state[\"query\"]\n",
        "    retrieved_docs = vector_store.similarity_search(\n",
        "        query[\"query\"],\n",
        "        filter=lambda doc: doc.metadata.get(\"section\") == query[\"section\"],\n",
        "    )\n",
        "    return {\"context\": retrieved_docs}\n",
        "\n",
        "\n",
        "def generate(state: State):\n",
        "    docs_content = \"\\n\\n\".join(doc.page_content for doc in state[\"context\"])\n",
        "    messages = prompt.invoke({\"question\": state[\"question\"], \"context\": docs_content})\n",
        "    response = llm.invoke(messages)\n",
        "    return {\"answer\": response.content}\n",
        "\n",
        "\n",
        "graph_builder = StateGraph(State).add_sequence([analyze_query, retrieve, generate])\n",
        "graph_builder.add_edge(START, \"analyze_query\")\n",
        "graph = graph_builder.compile()\n",
        "```\n",
        "\n",
        "</details>"
      ]
    },
    {
      "cell_type": "code",
      "execution_count": null,
      "id": "8a92d539-f85d-434b-b911-51a1cf9b81da",
      "metadata": {
        "id": "8a92d539-f85d-434b-b911-51a1cf9b81da",
        "outputId": "4f19e482-7143-4d54-fc29-e73e5b465e22"
      },
      "outputs": [
        {
          "data": {
            "image/png": "[encoded data removed]",
            "text/plain": [
              "<IPython.core.display.Image object>"
            ]
          },
          "metadata": {},
          "output_type": "display_data"
        }
      ],
      "source": [
        "display(Image(graph.get_graph().draw_mermaid_png()))"
      ]
    },
    {
      "cell_type": "markdown",
      "id": "653cf8dc-a201-43ea-9965-02fcfd2fc316",
      "metadata": {
        "id": "653cf8dc-a201-43ea-9965-02fcfd2fc316"
      },
      "source": [
        "We can test our implementation by specifically asking for context from the end of the post. Note that the model includes different information in its answer."
      ]
    },
    {
      "cell_type": "code",
      "execution_count": null,
      "id": "8b420650-2d9e-4f5e-a8d8-ec36ae07423c",
      "metadata": {
        "id": "8b420650-2d9e-4f5e-a8d8-ec36ae07423c",
        "outputId": "bbdc1358-089a-4d4c-b477-a9880b3598b9"
      },
      "outputs": [
        {
          "name": "stdout",
          "output_type": "stream",
          "text": [
            "{'analyze_query': {'query': {'query': 'Task Decomposition', 'section': 'end'}}}\n",
            "\n",
            "----------------\n",
            "\n",
            "{'retrieve': {'context': [Document(id='844998c0-8e47-4602-8f7e-335b58b1f72a', metadata={'source': 'https://lilianweng.github.io/posts/2023-06-23-agent/', 'start_index': 39137, 'section': 'end'}, page_content='Finite context length: The restricted context capacity limits the inclusion of historical information, detailed instructions, API call context, and responses. The design of the system has to work with this limited communication bandwidth, while mechanisms like self-reflection to learn from past mistakes would benefit a lot from long or infinite context windows. Although vector stores and retrieval can provide access to a larger knowledge pool, their representation power is not as powerful as full attention.\\n\\n\\nChallenges in long-term planning and task decomposition: Planning over a lengthy history and effectively exploring the solution space remain challenging. LLMs struggle to adjust plans when faced with unexpected errors, making them less robust compared to humans who learn from trial and error.'), Document(id='a94c8d0c-9659-4a46-acc3-d0bb99f452fd', metadata={'source': 'https://lilianweng.github.io/posts/2023-06-23-agent/', 'start_index': 39002, 'section': 'end'}, page_content='}\\n]\\nChallenges#\\nAfter going through key ideas and demos of building LLM-centered agents, I start to see a couple common limitations:'), Document(id='eb36b8db-8b49-4400-8860-83d43c2445ab', metadata={'source': 'https://lilianweng.github.io/posts/2023-06-23-agent/', 'start_index': 32858, 'section': 'end'}, page_content='}\\n]\\nThen after these clarification, the agent moved into the code writing mode with a different system message.\\nSystem message:'), Document(id='68768f81-fb65-487b-8971-924f7219e862', metadata={'source': 'https://lilianweng.github.io/posts/2023-06-23-agent/', 'start_index': 35043, 'section': 'end'}, page_content='\"content\": \"You will get instructions for code to write.\\\\nYou will write a very long answer. Make sure that every detail of the architecture is, in the end, implemented as code.\\\\nMake sure that every detail of the architecture is, in the end, implemented as code.\\\\n\\\\nThink step by step and reason yourself to the right decisions to make sure we get it right.\\\\nYou will first lay out the names of the core classes, functions, methods that will be necessary, as well as a quick comment on their purpose.\\\\n\\\\nThen you will output the content of each file including ALL code.\\\\nEach file must strictly follow a markdown code block format, where the following tokens must be replaced such that\\\\nFILENAME is the lowercase file name including the file extension,\\\\nLANG is the markup code block language for the code\\'s language, and CODE is the code:\\\\n\\\\nFILENAME\\\\n```LANG\\\\nCODE\\\\n```\\\\n\\\\nYou will start with the \\\\\"entrypoint\\\\\" file, then go to the ones that are imported by that file, and so on.\\\\nPlease')]}}\n",
            "\n",
            "----------------\n",
            "\n",
            "{'generate': {'answer': 'The end of the post discusses the challenges of task decomposition, highlighting that LLMs struggle with long-term planning and adjusting plans in response to unexpected errors. It suggests that, compared to humans, these models are less adept at learning from trial and error. Thus, effective task decomposition remains a significant limitation for LLMs.'}}\n",
            "\n",
            "----------------\n",
            "\n"
          ]
        }
      ],
      "source": [
        "for step in graph.stream(\n",
        "    {\"question\": \"What does the end of the post say about Task Decomposition?\"},\n",
        "    stream_mode=\"updates\",\n",
        "):\n",
        "    print(f\"{step}\\n\\n----------------\\n\")"
      ]
    },
    {
      "cell_type": "markdown",
      "id": "5875a48a-c849-4da9-99e0-558b04884fb0",
      "metadata": {
        "id": "5875a48a-c849-4da9-99e0-558b04884fb0"
      },
      "source": [
        "In both the streamed steps and the [LangSmith trace](https://smith.langchain.com/public/bdbaae61-130c-4338-8b59-9315dfee22a0/r), we can now observe the structured query that was fed into the retrieval step.\n",
        "\n",
        "Query Analysis is a rich problem with a wide range of approaches. Refer to the [how-to guides](/docs/how_to/#query-analysis) for more examples."
      ]
    },
    {
      "cell_type": "markdown",
      "id": "82e4d779",
      "metadata": {
        "id": "82e4d779"
      },
      "source": [
        "## Next steps\n",
        "\n",
        "We've covered the steps to build a basic Q&A app over data:\n",
        "\n",
        "- Loading data with a [Document Loader](/docs/concepts/document_loaders)\n",
        "- Chunking the indexed data with a [Text Splitter](/docs/concepts/text_splitters) to make it more easily usable by a model\n",
        "- [Embedding the data](/docs/concepts/embedding_models) and storing the data in a [vectorstore](/docs/how_to/vectorstores)\n",
        "- [Retrieving](/docs/concepts/retrievers) the previously stored chunks in response to incoming questions\n",
        "- Generating an answer using the retrieved chunks as context.\n",
        "\n",
        "In [Part 2](/docs/tutorials/qa_chat_history) of the tutorial, we will extend the implementation here to accommodate conversation-style interactions and multi-step retrieval processes.\n",
        "\n",
        "Further reading:\n",
        "\n",
        "- [Return sources](/docs/how_to/qa_sources): Learn how to return source documents\n",
        "- [Streaming](/docs/how_to/streaming): Learn how to stream outputs and intermediate steps\n",
        "- [Add chat history](/docs/how_to/message_history): Learn how to add chat history to your app\n",
        "- [Retrieval conceptual guide](/docs/concepts/retrieval): A high-level overview of specific retrieval techniques"
      ]
    }
  ],
  "metadata": {
    "colab": {
      "provenance": []
    },
    "kernelspec": {
      "display_name": "agents-from-scratch",
      "language": "python",
      "name": "python3"
    },
    "language_info": {
      "codemirror_mode": {
        "name": "ipython",
        "version": 3
      },
      "file_extension": ".py",
      "mimetype": "text/x-python",
      "name": "python",
      "nbconvert_exporter": "python",
      "pygments_lexer": "ipython3",
      "version": "3.12.1"
    }
  },
  "nbformat": 4,
  "nbformat_minor": 5
}
