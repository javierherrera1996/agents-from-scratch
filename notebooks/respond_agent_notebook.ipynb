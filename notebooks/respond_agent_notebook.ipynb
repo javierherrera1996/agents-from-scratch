{
 "cells": [
  {
   "cell_type": "code",
   "execution_count": 22,
   "id": "6711e8c5",
   "metadata": {},
   "outputs": [],
   "source": [
    "# policy_crud_agent.py\n",
    "from __future__ import annotations\n",
    "from typing import Literal, TypedDict, Dict, Any, Optional, List, Union\n",
    "import os, json, time\n",
    "\n",
    "from pydantic import BaseModel, Field\n",
    "from dotenv import load_dotenv\n",
    "load_dotenv(\".env\")\n",
    "\n",
    "# LangChain / LangGraph\n",
    "from langchain.chat_models import init_chat_model\n",
    "from langchain.tools import tool\n",
    "from langgraph.prebuilt import create_react_agent\n",
    "from langgraph.graph import StateGraph, START, END\n",
    "from langgraph.types import interrupt\n",
    "\n"
   ]
  },
  {
   "cell_type": "code",
   "execution_count": 23,
   "id": "42b89918",
   "metadata": {},
   "outputs": [],
   "source": [
    "# ============== Config ============\n",
    "LLM_MODEL = os.getenv(\"LLM_MODEL\", \"openai:gpt-4.1\")\n",
    "DELETE_REQUIRES_HITL = os.getenv(\"DELETE_REQUIRES_HITL\", \"true\").lower() == \"true\"\n"
   ]
  },
  {
   "cell_type": "code",
   "execution_count": 24,
   "id": "9af438ec",
   "metadata": {},
   "outputs": [],
   "source": [
    "\n",
    "# ============== Estado ============\n",
    "class PolicyState(TypedDict, total=False):\n",
    "    email_input: str          # correo crudo\n",
    "    messages: list            # chat history para el agent\n",
    "    intent: Dict[str, Any]    # intención extraída\n",
    "    hitl_resolved: bool       # bandera tras aprobación humana\n",
    "    logs: List[str]           # trazas\n"
   ]
  },
  {
   "cell_type": "code",
   "execution_count": 25,
   "id": "39e98560",
   "metadata": {},
   "outputs": [],
   "source": [
    "\n",
    "def _log(s: PolicyState, msg: str):\n",
    "    s.setdefault(\"logs\", []).append(msg)\n",
    "    return s"
   ]
  },
  {
   "cell_type": "code",
   "execution_count": 26,
   "id": "fbde6030",
   "metadata": {},
   "outputs": [],
   "source": [
    "\n",
    "# Escalares permitidos (tienen 'type' en el schema)\n",
    "JsonScalar = Union[str, int, float, bool, None]\n",
    "\n",
    "class KVPair(BaseModel):\n",
    "    key: str = Field(..., min_length=1, description=\"Nombre del campo\")\n",
    "    value: JsonScalar = Field(..., description=\"Valor escalar (usa string si es objeto/lista)\")\n",
    "    model_config = {\"extra\": \"forbid\"}  # => additionalProperties: false\n",
    "\n",
    "class PolicyIntent(BaseModel):\n",
    "    action: Literal[\"create\", \"update\", \"delete\", \"none\"] = Field(..., description=\"Operación objetivo\")\n",
    "    policy_id: Optional[str] = Field(None, description=\"ID de póliza (para update/delete)\")\n",
    "    customer_id: Optional[str] = Field(None, description=\"ID cliente (para create)\")\n",
    "    fields: List[KVPair] = Field(default_factory=list, description=\"Pares key/value\")\n",
    "    confidence: float = Field(0.0, ge=0, le=1, description=\"Confianza (0-1)\")\n",
    "    model_config = {\"extra\": \"forbid\"}  # => cierra el objeto superior"
   ]
  },
  {
   "cell_type": "code",
   "execution_count": 27,
   "id": "0e1be765",
   "metadata": {},
   "outputs": [],
   "source": [
    "\n",
    "base_llm = init_chat_model(LLM_MODEL, temperature=0.0)\n",
    "extract_llm = base_llm.with_structured_output(PolicyIntent)\n"
   ]
  },
  {
   "cell_type": "code",
   "execution_count": 28,
   "id": "cc5113cb",
   "metadata": {},
   "outputs": [],
   "source": [
    "\n",
    "def extract_intent_node(state: PolicyState) -> PolicyState:\n",
    "    email_text = state[\"email_input\"]\n",
    "    intent = extract_llm.invoke([\n",
    "        {\"role\": \"system\", \"content\": \"Eres un analista de pólizas. Dado un correo, extrae la intención de CRUD de pólizas.\"},\n",
    "        {\"role\": \"user\", \"content\": email_text}\n",
    "    ])\n",
    "\n",
    "    # ✅ convertir List[KVPair] -> Dict[str, Any] para mantener tu contrato interno\n",
    "    intent_dict = intent.model_dump()\n",
    "    fields_dict = {kv[\"key\"]: kv[\"value\"] for kv in intent_dict.get(\"fields\", [])}\n",
    "    intent_dict[\"fields\"] = fields_dict\n",
    "\n",
    "    state[\"intent\"] = intent_dict  \n",
    "    _log(state, f\"intent={state['intent']}\")\n",
    "    # Sembramos contexto para el agent prebuild (le damos los args ya parseados)\n",
    "    sys_context = (\n",
    "        \"CONTEXT | Intent parsed from email:\\n\"\n",
    "        f\"- action: {intent.action}\\n\"\n",
    "        f\"- policy_id: {intent.policy_id}\\n\"\n",
    "        f\"- customer_id: {intent.customer_id}\\n\"\n",
    "        f\"- fields: {json.dumps(intent.fields, ensure_ascii=False)}\\n\"\n",
    "        f\"- confidence: {intent.confidence}\\n\\n\"\n",
    "        \"Always VERIFY the intent first using `verify_policy_info` with these values. \"\n",
    "        \"Then, if valid, call the corresponding MCP tool: \"\n",
    "        \"`mcp_create_policy` (create), `mcp_update_policy` (update), or `mcp_delete_policy` (delete). \"\n",
    "        \"If required data is missing, call `mcp_request_missing_info`.\"\n",
    "    )\n",
    "    state[\"messages\"] = [{\"role\":\"system\",\"content\": sys_context}]\n",
    "    return state"
   ]
  },
  {
   "cell_type": "code",
   "execution_count": 29,
   "id": "524b3866",
   "metadata": {},
   "outputs": [],
   "source": [
    "\n",
    "\n",
    "# ============== MCP-like Tools (simuladas) ==============\n",
    "@tool\n",
    "def verify_policy_info(action: Literal[\"create\",\"update\",\"delete\"], policy_id: Optional[str]=None,\n",
    "                       customer_id: Optional[str]=None, fields: Optional[Dict[str, Any]]=None) -> Dict[str, Any]:\n",
    "    \"\"\"\n",
    "    Verifica que la intención tenga datos mínimos para ejecutar la acción.\n",
    "    Regresa {ok: bool, missing: [..], normalized_fields: {...}}.\n",
    "    \"\"\"\n",
    "    missing = []\n",
    "    fields = fields or {}\n",
    "    if action == \"create\":\n",
    "        if not customer_id: missing.append(\"customer_id\")\n",
    "        if not fields: missing.append(\"fields\")\n",
    "    elif action == \"update\":\n",
    "        if not policy_id: missing.append(\"policy_id\")\n",
    "        if not fields: missing.append(\"fields\")\n",
    "    elif action == \"delete\":\n",
    "        if not policy_id: missing.append(\"policy_id\")\n",
    "    else:\n",
    "        missing.append(\"action_valid\")\n",
    "\n",
    "    ok = len(missing) == 0\n",
    "    return {\"tool\": \"verify_policy_info\", \"ok\": ok, \"missing\": missing, \"normalized_fields\": fields}\n",
    "\n",
    "@tool\n",
    "def mcp_request_missing_info(missing: List[str], note: Optional[str]=None) -> Dict[str, Any]:\n",
    "    \"\"\"\n",
    "    Solicita información faltante (simulado). En producción dispararía un flujo HITL o correo de retorno.\n",
    "    \"\"\"\n",
    "    return {\"tool\":\"mcp_request_missing_info\", \"status\":\"REQUESTED\", \"missing\": missing, \"note\": note or \"\"}\n",
    "\n",
    "@tool\n",
    "def mcp_create_policy(customer_id: str, fields: Dict[str, Any]) -> Dict[str, Any]:\n",
    "    \"\"\"Crea una póliza (simulado).\"\"\"\n",
    "    time.sleep(0.1)\n",
    "    fake_id = f\"P{int(time.time())}\"\n",
    "    return {\"tool\":\"mcp_create_policy\", \"status\":\"CREATED\", \"policy_id\": fake_id, \"customer_id\": customer_id, \"fields\": fields}\n",
    "\n",
    "@tool\n",
    "def mcp_update_policy(policy_id: str, fields: Dict[str, Any]) -> Dict[str, Any]:\n",
    "    \"\"\"Actualiza una póliza (simulado).\"\"\"\n",
    "    time.sleep(0.05)\n",
    "    return {\"tool\":\"mcp_update_policy\", \"status\":\"UPDATED\", \"policy_id\": policy_id, \"fields\": fields}\n",
    "\n",
    "@tool\n",
    "def mcp_delete_policy(policy_id: str) -> Dict[str, Any]:\n",
    "    \"\"\"Elimina una póliza (simulado) — debe pasar por HITL previo si está habilitado.\"\"\"\n",
    "    time.sleep(0.05)\n",
    "    return {\"tool\":\"mcp_delete_policy\", \"status\":\"DELETED\", \"policy_id\": policy_id}\n",
    "\n",
    "TOOLS = [\n",
    "    verify_policy_info,\n",
    "    mcp_request_missing_info,\n",
    "    mcp_create_policy,\n",
    "    mcp_update_policy,\n",
    "    mcp_delete_policy,\n",
    "]\n",
    "\n"
   ]
  },
  {
   "cell_type": "code",
   "execution_count": null,
   "id": "503fd758",
   "metadata": {},
   "outputs": [],
   "source": [
    "\n",
    "# ============== Agente prebuild (React Agent) ==============\n",
    "AGENT_SYSTEM_PROMPT = \"\"\"\\\n",
    "Eres un agente de pólizas.\n",
    "Objetivo:\n",
    "1) Verificar datos con `verify_policy_info` usando SIEMPRE los valores del CONTEXT.\n",
    "2) Si faltan datos -> `mcp_request_missing_info`.\n",
    "3) Si está todo bien -> ejecutar UNA de:\n",
    "   - create -> `mcp_create_policy`\n",
    "   - update -> `mcp_update_policy`\n",
    "   - delete -> `mcp_delete_policy`\n",
    "4) Finaliza llamando `Done` (si existe en tu entorno) o entregando una respuesta clara.\n",
    "Política de seguridad:\n",
    "- Si la acción es DELETE y no hay aprobación humana previa, no ejecutes el borrado: solicita aprobación (HITL).\n",
    "Estilo: conciso y operacional.\n",
    "\"\"\""
   ]
  },
  {
   "cell_type": "code",
   "execution_count": 31,
   "id": "4f853fc3",
   "metadata": {},
   "outputs": [],
   "source": [
    "# === Config (arriba, junto a LLM_MODEL) ===\n",
    "SENSITIVE_HITL_ACTIONS = {\n",
    "    a.strip() for a in os.getenv(\"SENSITIVE_HITL_ACTIONS\", \"delete,update\").split(\",\")\n",
    "}\n"
   ]
  },
  {
   "cell_type": "code",
   "execution_count": 32,
   "id": "32507254",
   "metadata": {},
   "outputs": [],
   "source": [
    "import re\n",
    "from typing import List\n",
    "\n",
    "# Campos críticos por acción\n",
    "REQUIRED_BY_ACTION = {\n",
    "    \"create\": [\"customer_id\", \"fields\"],\n",
    "    \"update\": [\"policy_id\", \"fields\"],\n",
    "    \"delete\": [\"policy_id\"],\n",
    "}\n",
    "\n",
    "def list_missing(intent: dict) -> List[str]:\n",
    "    action = (intent or {}).get(\"action\") or \"none\"\n",
    "    if action == \"none\":\n",
    "        return [\"action\"]\n",
    "    req = REQUIRED_BY_ACTION.get(action, [])\n",
    "    return [k for k in req if not (intent.get(k) or (intent.get(k) == 0))]\n",
    "\n",
    "def need_clarification(state: \"PolicyState\") -> str:\n",
    "    \"\"\"Devuelve 'clarify' si faltan campos, si no 'proceed'.\"\"\"\n",
    "    missing = list_missing(state.get(\"intent\", {}))\n",
    "    return \"clarify\" if missing else \"proceed\"\n",
    "\n",
    "def extract_sender(email_text: str) -> str:\n",
    "    \"\"\"Busca 'From: Nombre <correo>' y devuelve el correo si existe.\"\"\"\n",
    "    m = re.search(r\"^From:\\s*.*?<([^>]+)>\", email_text, flags=re.IGNORECASE | re.MULTILINE)\n",
    "    if m:\n",
    "        return m.group(1).strip()\n",
    "    # fallback simple: línea From: foo@bar\n",
    "    m2 = re.search(r\"^From:\\s*([^\\s]+@[^\\s]+)\", email_text, flags=re.IGNORECASE | re.MULTILINE)\n",
    "    return m2.group(1).strip() if m2 else \"\"\n",
    "\n",
    "def extract_subject(email_text: str) -> str:\n",
    "    m = re.search(r\"^Subject:\\s*(.+)$\", email_text, flags=re.IGNORECASE | re.MULTILINE)\n",
    "    return m.group(1).strip() if m else \"Tu solicitud de póliza\"\n",
    "\n",
    "def build_clarify_body(missing: List[str]) -> str:\n",
    "    prompts = {\n",
    "        \"action\": \"¿Qué acción deseas realizar sobre la póliza? (create / update / delete)\",\n",
    "        \"policy_id\": \"¿Nos confirmas el número/ID de la póliza a gestionar?\",\n",
    "        \"customer_id\": \"¿Cuál es el ID del cliente para crear la póliza?\",\n",
    "        \"fields\": \"¿Qué campos debemos crear/actualizar? (p. ej.: status, premium, start_date)\",\n",
    "    }\n",
    "    # Pedimos todo lo faltante en un solo correo (breve y ordenado)\n",
    "    lines = [\"¡Hola! Para avanzar con tu solicitud necesitamos aclarar:\"]\n",
    "    for k in missing:\n",
    "        lines.append(f\"- {prompts.get(k, f'Por favor indícanos: {k}')}\")\n",
    "    lines.append(\"\\nGracias, quedo atento(a).\")\n",
    "    return \"\\n\".join(lines)\n"
   ]
  },
  {
   "cell_type": "code",
   "execution_count": 33,
   "id": "2de193a5",
   "metadata": {},
   "outputs": [],
   "source": [
    "# === Tool para enviar email de aclaración (simulado) ===\n",
    "from langchain.tools import tool\n",
    "\n",
    "@tool\n",
    "def send_email(to: str, subject: str, body: str) -> dict:\n",
    "    \"\"\"\n",
    "    Envía un email (simulado). En producción, integrarlo con tu SMTP/API.\n",
    "    \"\"\"\n",
    "    print(f\"[send_email] to={to} subject={subject}\\n{body}\\n\")\n",
    "    return {\"tool\": \"send_email\", \"status\": \"SENT\", \"to\": to, \"subject\": subject}\n"
   ]
  },
  {
   "cell_type": "code",
   "execution_count": 34,
   "id": "e9c56834",
   "metadata": {},
   "outputs": [],
   "source": [
    "def clarify_by_email_node(state: \"PolicyState\") -> \"PolicyState\":\n",
    "    intent = state.get(\"intent\", {}) or {}\n",
    "    missing = list_missing(intent)\n",
    "    if not missing:\n",
    "        return state  # nada que aclarar\n",
    "\n",
    "    to = extract_sender(state.get(\"email_input\", \"\")) or \"\"\n",
    "    subj = \"Re: \" + extract_subject(state.get(\"email_input\", \"Tu solicitud de póliza\"))\n",
    "    body = build_clarify_body(missing)\n",
    "\n",
    "    # Llamamos el tool de envío (sin interrumpir el grafo)\n",
    "    _ = send_email.invoke({\"to\": to or \"usuario@desconocido\", \"subject\": subj, \"body\": body})\n",
    "\n",
    "    _log(state, f\"clarification_email_sent to={to or 'unknown'} missing={missing}\")\n",
    "    state[\"clarification_sent\"] = True\n",
    "    # Fin del flujo: el usuario responderá por email y su respuesta llegará como NUEVO email al pipeline\n",
    "    return state\n"
   ]
  },
  {
   "cell_type": "code",
   "execution_count": 35,
   "id": "9d0f8d08",
   "metadata": {},
   "outputs": [],
   "source": [
    "def hitl_gate_node(state: \"PolicyState\") -> \"PolicyState\":\n",
    "    \"\"\"Si la acción es sensible (delete/update) y no ha sido aprobada internamente, dispara HITL (no correo).\"\"\"\n",
    "    intent = state.get(\"intent\", {}) or {}\n",
    "    action = (intent.get(\"action\") or \"\").lower()\n",
    "    if action in SENSITIVE_HITL_ACTIONS and not state.get(\"hitl_resolved\"):\n",
    "        # Aquí SÍ usamos HITL interno (aprobación de supervisor). No es email al usuario.\n",
    "        # Importante: interrupt solo acepta un argumento posicional.\n",
    "        decision = interrupt({\"type\": \"HITL_POLICY_APPROVAL_INTERNAL\", \"action\": action, \"intent\": intent})\n",
    "        # Si reanudan devolviendo, por ejemplo, {\"approved\": true}, puedes setear:\n",
    "        if isinstance(decision, dict) and decision.get(\"approved\") is True:\n",
    "            state[\"hitl_resolved\"] = True\n",
    "            _log(state, f\"hitl_internal_approved action={action}\")\n",
    "        else:\n",
    "            _log(state, f\"hitl_internal_rejected action={action}\")\n",
    "            # Puedes cortar el flujo si no aprueban:\n",
    "            # raise RuntimeError(\"HITL interno rechazó la operación.\")\n",
    "    return state\n"
   ]
  },
  {
   "cell_type": "code",
   "execution_count": null,
   "id": "e503ee8d",
   "metadata": {},
   "outputs": [],
   "source": [
    "def build_prebuilt_agent():\n",
    "    model = init_chat_model(LLM_MODEL, temperature=0.0)\n",
    "    # create_react_agent acepta un modelo LangChain y la lista de tools\n",
    "    agent = create_react_agent(model, TOOLS, prompt=AGENT_SYSTEM_PROMPT)\n",
    "    return agent\n",
    "\n",
    "policy_agent = build_prebuilt_agent()\n",
    "\n",
    "\n"
   ]
  },
  {
   "cell_type": "code",
   "execution_count": 37,
   "id": "5aa59ab1",
   "metadata": {},
   "outputs": [],
   "source": [
    "def build_policy_crud_graph():\n",
    "    g = StateGraph(PolicyState)\n",
    "    g.add_node(\"extract_intent\", extract_intent_node)\n",
    "    g.add_node(\"clarify_by_email\", clarify_by_email_node)   # <- NUEVO\n",
    "    g.add_node(\"hitl_gate\", hitl_gate_node)\n",
    "    g.add_node(\"policy_agent\", policy_agent)\n",
    "\n",
    "    g.add_edge(START, \"extract_intent\")\n",
    "\n",
    "    # Si faltan datos → enviamos email y terminamos. Si está completo → seguimos a HITL interno (si aplica).\n",
    "    g.add_conditional_edges(\n",
    "        \"extract_intent\",\n",
    "        need_clarification,\n",
    "        {\"clarify\": \"clarify_by_email\", \"proceed\": \"hitl_gate\"}\n",
    "    )\n",
    "\n",
    "    # Tras aclarar por email, TERMINA el flujo (no reanudamos)\n",
    "    g.add_edge(\"clarify_by_email\", END)\n",
    "\n",
    "    g.add_edge(\"hitl_gate\", \"policy_agent\")\n",
    "    g.add_edge(\"policy_agent\", END)\n",
    "\n",
    "    return g.compile()\n"
   ]
  },
  {
   "cell_type": "code",
   "execution_count": 38,
   "id": "c848b8f2",
   "metadata": {},
   "outputs": [],
   "source": [
    "policy_crud_graph = build_policy_crud_graph()\n",
    "\n",
    "# ============== Utilidad: resolver HITL en demo ==============\n",
    "def resolve_hitl_and_continue(graph, state: PolicyState, approved: bool, note: str=\"\") -> PolicyState:\n",
    "    \"\"\"\n",
    "    Marca aprobación humana para DELETE (u otros flujos) y re-invoca.\n",
    "    \"\"\"\n",
    "    state[\"hitl_resolved\"] = bool(approved)\n",
    "    state.setdefault(\"messages\", []).append({\"role\":\"system\",\"content\": f\"HITL: delete approved={approved}. {note}\"})\n",
    "    return graph.invoke(state)"
   ]
  },
  {
   "cell_type": "code",
   "execution_count": 39,
   "id": "3a1ee02a",
   "metadata": {},
   "outputs": [
    {
     "data": {
      "image/png": "[encoded data removed]",
      "text/plain": [
       "<IPython.core.display.Image object>"
      ]
     },
     "execution_count": 39,
     "metadata": {},
     "output_type": "execute_result"
    }
   ],
   "source": [
    "from email_assistant.utils import show_graph\n",
    "show_graph(policy_crud_graph)"
   ]
  },
  {
   "cell_type": "code",
   "execution_count": 40,
   "id": "d39d8804",
   "metadata": {},
   "outputs": [],
   "source": [
    "email_delete = \"\"\"From: Maria <maria@acme.com>\n",
    "To: Polizas <polizas@bank.com>\n",
    "Subject: Solicitud de eliminación\n",
    "Body:\n",
    "Por favor eliminen la póliza . Ya no deseo continuar. Gracias.\n",
    "\"\"\""
   ]
  },
  {
   "cell_type": "code",
   "execution_count": 41,
   "id": "694ae647",
   "metadata": {},
   "outputs": [],
   "source": [
    "PolicyState = {\"email_input\": email_delete}"
   ]
  },
  {
   "cell_type": "code",
   "execution_count": 42,
   "id": "af9d62fa",
   "metadata": {},
   "outputs": [
    {
     "name": "stdout",
     "output_type": "stream",
     "text": [
      "[send_email] to=maria@acme.com subject=Re: Solicitud de eliminación\n",
      "¡Hola! Para avanzar con tu solicitud necesitamos aclarar:\n",
      "- ¿Nos confirmas el número/ID de la póliza a gestionar?\n",
      "\n",
      "Gracias, quedo atento(a).\n",
      "\n"
     ]
    },
    {
     "data": {
      "text/plain": [
       "{'email_input': 'From: Maria <maria@acme.com>\\nTo: Polizas <polizas@bank.com>\\nSubject: Solicitud de eliminación\\nBody:\\nPor favor eliminen la póliza . Ya no deseo continuar. Gracias.\\n',\n",
       " 'messages': [{'role': 'system',\n",
       "   'content': 'CONTEXT | Intent parsed from email:\\n- action: delete\\n- policy_id: None\\n- customer_id: None\\n- fields: []\\n- confidence: 0.7\\n\\nAlways VERIFY the intent first using `verify_policy_info` with these values. Then, if valid, call the corresponding MCP tool: `mcp_create_policy` (create), `mcp_update_policy` (update), or `mcp_delete_policy` (delete). If required data is missing, call `mcp_request_missing_info`.'}],\n",
       " 'intent': {'action': 'delete',\n",
       "  'policy_id': None,\n",
       "  'customer_id': None,\n",
       "  'fields': {},\n",
       "  'confidence': 0.7},\n",
       " 'logs': [\"intent={'action': 'delete', 'policy_id': None, 'customer_id': None, 'fields': {}, 'confidence': 0.7}\",\n",
       "  \"clarification_email_sent to=maria@acme.com missing=['policy_id']\"]}"
      ]
     },
     "execution_count": 42,
     "metadata": {},
     "output_type": "execute_result"
    }
   ],
   "source": [
    "policy_crud_graph.invoke({\"email_input\": email_delete})"
   ]
  }
 ],
 "metadata": {
  "kernelspec": {
   "display_name": "agents-from-scratch",
   "language": "python",
   "name": "python3"
  },
  "language_info": {
   "codemirror_mode": {
    "name": "ipython",
    "version": 3
   },
   "file_extension": ".py",
   "mimetype": "text/x-python",
   "name": "python",
   "nbconvert_exporter": "python",
   "pygments_lexer": "ipython3",
   "version": "3.12.1"
  }
 },
 "nbformat": 4,
 "nbformat_minor": 5
}
